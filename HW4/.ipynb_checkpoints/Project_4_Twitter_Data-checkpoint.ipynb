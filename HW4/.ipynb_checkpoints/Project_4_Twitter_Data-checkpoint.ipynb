{
 "cells": [
  {
   "cell_type": "code",
   "execution_count": 1,
   "id": "204328ab",
   "metadata": {
    "colab": {
     "base_uri": "https://localhost:8080/"
    },
    "id": "204328ab",
    "outputId": "14b5ea9f-9a4e-48fa-da2e-8345476e8ac3"
   },
   "outputs": [
    {
     "name": "stdout",
     "output_type": "stream",
     "text": [
      "Populating the interactive namespace from numpy and matplotlib\n"
     ]
    }
   ],
   "source": [
    "%pylab inline"
   ]
  },
  {
   "cell_type": "code",
   "execution_count": 46,
   "id": "43d9d9d2",
   "metadata": {
    "id": "43d9d9d2"
   },
   "outputs": [],
   "source": [
    "import os\n",
    "import glob\n",
    "import json\n",
    "import pandas as pd"
   ]
  },
  {
   "cell_type": "code",
   "execution_count": 47,
   "id": "MQs-AJnmU-hB",
   "metadata": {
    "id": "MQs-AJnmU-hB"
   },
   "outputs": [],
   "source": [
    "data_path = './ECE219_tweet_data/'"
   ]
  },
  {
   "cell_type": "markdown",
   "id": "e16a9037",
   "metadata": {},
   "source": [
    "#### Question 27"
   ]
  },
  {
   "cell_type": "code",
   "execution_count": null,
   "id": "dd7c4420",
   "metadata": {
    "colab": {
     "base_uri": "https://localhost:8080/"
    },
    "id": "dd7c4420",
    "outputId": "90ca9122-9488-4386-edd5-941ae1f8ce0c"
   },
   "outputs": [
    {
     "name": "stdout",
     "output_type": "stream",
     "text": [
      "tweets_#superbowl.txt 1213813\n",
      "Average number of tweets/hr: 2072.11840170408\n",
      "Average number of followers: 8814.96799424623\n",
      "Average number of retweets: 2.3911895819207736\n",
      "tweets_#patriots.txt 440621\n",
      "Average number of tweets/hr: 750.89426460689\n",
      "Average number of followers: 3280.4635616550277\n",
      "Average number of retweets: 1.7852871288476946\n",
      "tweets_#sb49.txt 743649\n",
      "Average number of tweets/hr: 1276.8570598680474\n",
      "Average number of followers: 10374.160292019487\n",
      "Average number of retweets: 2.52713444111402\n",
      "tweets_#gopatriots.txt 23511\n",
      "Average number of tweets/hr: 40.95469800606194\n",
      "Average number of followers: 1427.2526051635405\n",
      "Average number of retweets: 1.4081919101697078\n",
      "tweets_#nfl.txt 233022\n",
      "Average number of tweets/hr: 397.0213901819841\n",
      "Average number of followers: 4662.37544523693\n",
      "Average number of retweets: 1.5344602655543254\n",
      "tweets_#gohawks.txt 169122\n",
      "Average number of tweets/hr: 292.48785062173687\n",
      "Average number of followers: 2217.9237355281984\n",
      "Average number of retweets: 2.0132093991319877\n"
     ]
    }
   ],
   "source": [
    "for fname in os.listdir(data_path):\n",
    "    file = []\n",
    "    with open(os.path.join(data_path,fname),encoding=\"utf8\") as f:\n",
    "        for line in f:\n",
    "            file.append(line)\n",
    "            \n",
    "    \n",
    "    num_tweets = len(file)\n",
    "    time, followers, retweets = [], [], []\n",
    "    for line in file:\n",
    "        tweet = json.loads(line)\n",
    "#         print(tweet['tweet']['text'])\n",
    "        time += [tweet['citation_date']]\n",
    "        followers += [tweet['author']['followers']]\n",
    "        retweets += [tweet['metrics']['citations']['total']]\n",
    "\n",
    "    print(fname, num_tweets)\n",
    "    print('Average number of tweets/hr:',num_tweets/((np.max(time)-np.min(time))/3600.))\n",
    "    print('Average number of followers:',np.mean(followers))\n",
    "    print('Average number of retweets:',np.mean(retweets))"
   ]
  },
  {
   "cell_type": "markdown",
   "id": "3de8b817",
   "metadata": {},
   "source": [
    "#### Question 28"
   ]
  },
  {
   "cell_type": "code",
   "execution_count": null,
   "id": "Q5tfZ5ncVI4F",
   "metadata": {
    "colab": {
     "base_uri": "https://localhost:8080/",
     "height": 359
    },
    "id": "Q5tfZ5ncVI4F",
    "outputId": "da71e655-95c2-411e-f772-d825ed5fd8b3"
   },
   "outputs": [
    {
     "data": {
      "image/png": "[encoded data removed]",
      "text/plain": [
       "<Figure size 1440x360 with 1 Axes>"
      ]
     },
     "metadata": {
      "needs_background": "light"
     },
     "output_type": "display_data"
    },
    {
     "data": {
      "image/png": "[encoded data removed]",
      "text/plain": [
       "<Figure size 1440x360 with 1 Axes>"
      ]
     },
     "metadata": {
      "needs_background": "light"
     },
     "output_type": "display_data"
    }
   ],
   "source": [
    "for fname in ['tweets_#superbowl.txt', 'tweets_#nfl.txt']:\n",
    "    file = []\n",
    "    with open(os.path.join(data_path,fname),encoding=\"utf8\") as f:\n",
    "        for line in f:\n",
    "            file.append(line)\n",
    "    time = []\n",
    "    for line in file:\n",
    "        tweet = json.loads(line)\n",
    "        time += [tweet['citation_date']//3600]\n",
    "    plt.figure(figsize=(20,5))\n",
    "    plt.hist(time,bins=range(min(time),max(time)+1))\n",
    "    plt.title(fname)\n",
    "    plt.show()"
   ]
  },
  {
   "cell_type": "markdown",
   "id": "f2e85d41",
   "metadata": {},
   "source": [
    "#### Data Exploration"
   ]
  },
  {
   "cell_type": "code",
   "execution_count": 5,
   "id": "08217bb7",
   "metadata": {},
   "outputs": [],
   "source": [
    "train_features =  pd.read_csv('./train_features.csv',lineterminator='\\n')\n",
    "test_features = pd.read_csv('./test_features.csv',lineterminator='\\n')"
   ]
  },
  {
   "cell_type": "code",
   "execution_count": 7,
   "id": "a4ee96fa",
   "metadata": {},
   "outputs": [
    {
     "data": {
      "text/html": [
       "<div>\n",
       "<style scoped>\n",
       "    .dataframe tbody tr th:only-of-type {\n",
       "        vertical-align: middle;\n",
       "    }\n",
       "\n",
       "    .dataframe tbody tr th {\n",
       "        vertical-align: top;\n",
       "    }\n",
       "\n",
       "    .dataframe thead th {\n",
       "        text-align: right;\n",
       "    }\n",
       "</style>\n",
       "<table border=\"1\" class=\"dataframe\">\n",
       "  <thead>\n",
       "    <tr style=\"text-align: right;\">\n",
       "      <th></th>\n",
       "      <th>Unnamed: 0</th>\n",
       "      <th>time</th>\n",
       "      <th>followers</th>\n",
       "      <th>retweets</th>\n",
       "      <th>ranking_score</th>\n",
       "      <th>impressions</th>\n",
       "      <th>0</th>\n",
       "      <th>1</th>\n",
       "      <th>2</th>\n",
       "      <th>3</th>\n",
       "      <th>...</th>\n",
       "      <th>90</th>\n",
       "      <th>91</th>\n",
       "      <th>92</th>\n",
       "      <th>93</th>\n",
       "      <th>94</th>\n",
       "      <th>95</th>\n",
       "      <th>96</th>\n",
       "      <th>97</th>\n",
       "      <th>98</th>\n",
       "      <th>99</th>\n",
       "    </tr>\n",
       "  </thead>\n",
       "  <tbody>\n",
       "    <tr>\n",
       "      <th>0</th>\n",
       "      <td>0</td>\n",
       "      <td>1.422819e+09</td>\n",
       "      <td>180.0</td>\n",
       "      <td>1.0</td>\n",
       "      <td>4.034830</td>\n",
       "      <td>170.0</td>\n",
       "      <td>0.950291</td>\n",
       "      <td>-0.308799</td>\n",
       "      <td>-0.032223</td>\n",
       "      <td>0.001628</td>\n",
       "      <td>...</td>\n",
       "      <td>0.000204</td>\n",
       "      <td>-0.000146</td>\n",
       "      <td>-0.000084</td>\n",
       "      <td>0.000136</td>\n",
       "      <td>-0.000155</td>\n",
       "      <td>-0.000144</td>\n",
       "      <td>0.000195</td>\n",
       "      <td>0.000116</td>\n",
       "      <td>0.000153</td>\n",
       "      <td>-0.000061</td>\n",
       "    </tr>\n",
       "    <tr>\n",
       "      <th>1</th>\n",
       "      <td>1</td>\n",
       "      <td>1.422823e+09</td>\n",
       "      <td>730.0</td>\n",
       "      <td>1.0</td>\n",
       "      <td>4.021128</td>\n",
       "      <td>728.0</td>\n",
       "      <td>0.950291</td>\n",
       "      <td>-0.308799</td>\n",
       "      <td>-0.032223</td>\n",
       "      <td>0.001628</td>\n",
       "      <td>...</td>\n",
       "      <td>0.000204</td>\n",
       "      <td>-0.000146</td>\n",
       "      <td>-0.000084</td>\n",
       "      <td>0.000136</td>\n",
       "      <td>-0.000155</td>\n",
       "      <td>-0.000144</td>\n",
       "      <td>0.000195</td>\n",
       "      <td>0.000116</td>\n",
       "      <td>0.000153</td>\n",
       "      <td>-0.000061</td>\n",
       "    </tr>\n",
       "    <tr>\n",
       "      <th>2</th>\n",
       "      <td>2</td>\n",
       "      <td>1.422836e+09</td>\n",
       "      <td>172.0</td>\n",
       "      <td>1.0</td>\n",
       "      <td>4.109626</td>\n",
       "      <td>174.0</td>\n",
       "      <td>0.028737</td>\n",
       "      <td>0.077532</td>\n",
       "      <td>0.138296</td>\n",
       "      <td>-0.082138</td>\n",
       "      <td>...</td>\n",
       "      <td>0.025732</td>\n",
       "      <td>-0.000540</td>\n",
       "      <td>0.044254</td>\n",
       "      <td>0.004780</td>\n",
       "      <td>0.003891</td>\n",
       "      <td>-0.024276</td>\n",
       "      <td>-0.015690</td>\n",
       "      <td>0.002581</td>\n",
       "      <td>0.018465</td>\n",
       "      <td>0.031215</td>\n",
       "    </tr>\n",
       "    <tr>\n",
       "      <th>3</th>\n",
       "      <td>3</td>\n",
       "      <td>1.422841e+09</td>\n",
       "      <td>308.0</td>\n",
       "      <td>1.0</td>\n",
       "      <td>4.014885</td>\n",
       "      <td>314.0</td>\n",
       "      <td>0.016870</td>\n",
       "      <td>0.048615</td>\n",
       "      <td>0.067485</td>\n",
       "      <td>0.008780</td>\n",
       "      <td>...</td>\n",
       "      <td>-0.001037</td>\n",
       "      <td>-0.000602</td>\n",
       "      <td>-0.003414</td>\n",
       "      <td>-0.004251</td>\n",
       "      <td>0.003579</td>\n",
       "      <td>0.006936</td>\n",
       "      <td>-0.000462</td>\n",
       "      <td>-0.008469</td>\n",
       "      <td>-0.002251</td>\n",
       "      <td>-0.003728</td>\n",
       "    </tr>\n",
       "    <tr>\n",
       "      <th>4</th>\n",
       "      <td>4</td>\n",
       "      <td>1.422820e+09</td>\n",
       "      <td>45.0</td>\n",
       "      <td>2.0</td>\n",
       "      <td>4.090460</td>\n",
       "      <td>39.0</td>\n",
       "      <td>0.950291</td>\n",
       "      <td>-0.308799</td>\n",
       "      <td>-0.032223</td>\n",
       "      <td>0.001628</td>\n",
       "      <td>...</td>\n",
       "      <td>0.000204</td>\n",
       "      <td>-0.000146</td>\n",
       "      <td>-0.000084</td>\n",
       "      <td>0.000136</td>\n",
       "      <td>-0.000155</td>\n",
       "      <td>-0.000144</td>\n",
       "      <td>0.000195</td>\n",
       "      <td>0.000116</td>\n",
       "      <td>0.000153</td>\n",
       "      <td>-0.000061</td>\n",
       "    </tr>\n",
       "    <tr>\n",
       "      <th>...</th>\n",
       "      <td>...</td>\n",
       "      <td>...</td>\n",
       "      <td>...</td>\n",
       "      <td>...</td>\n",
       "      <td>...</td>\n",
       "      <td>...</td>\n",
       "      <td>...</td>\n",
       "      <td>...</td>\n",
       "      <td>...</td>\n",
       "      <td>...</td>\n",
       "      <td>...</td>\n",
       "      <td>...</td>\n",
       "      <td>...</td>\n",
       "      <td>...</td>\n",
       "      <td>...</td>\n",
       "      <td>...</td>\n",
       "      <td>...</td>\n",
       "      <td>...</td>\n",
       "      <td>...</td>\n",
       "      <td>...</td>\n",
       "      <td>...</td>\n",
       "    </tr>\n",
       "    <tr>\n",
       "      <th>564743</th>\n",
       "      <td>564743</td>\n",
       "      <td>1.422833e+09</td>\n",
       "      <td>967.0</td>\n",
       "      <td>1.0</td>\n",
       "      <td>3.676251</td>\n",
       "      <td>971.0</td>\n",
       "      <td>0.021472</td>\n",
       "      <td>0.003888</td>\n",
       "      <td>0.094188</td>\n",
       "      <td>-0.058599</td>\n",
       "      <td>...</td>\n",
       "      <td>0.083812</td>\n",
       "      <td>0.007565</td>\n",
       "      <td>0.015458</td>\n",
       "      <td>0.003446</td>\n",
       "      <td>0.026147</td>\n",
       "      <td>0.001261</td>\n",
       "      <td>0.008434</td>\n",
       "      <td>0.018731</td>\n",
       "      <td>-0.008462</td>\n",
       "      <td>0.013854</td>\n",
       "    </tr>\n",
       "    <tr>\n",
       "      <th>564744</th>\n",
       "      <td>564744</td>\n",
       "      <td>1.422661e+09</td>\n",
       "      <td>363628.0</td>\n",
       "      <td>19.0</td>\n",
       "      <td>7.676606</td>\n",
       "      <td>352351.0</td>\n",
       "      <td>0.049330</td>\n",
       "      <td>0.008841</td>\n",
       "      <td>0.060352</td>\n",
       "      <td>-0.026919</td>\n",
       "      <td>...</td>\n",
       "      <td>0.003454</td>\n",
       "      <td>-0.008528</td>\n",
       "      <td>0.008447</td>\n",
       "      <td>-0.036398</td>\n",
       "      <td>-0.048370</td>\n",
       "      <td>0.013139</td>\n",
       "      <td>0.008271</td>\n",
       "      <td>-0.004793</td>\n",
       "      <td>0.009799</td>\n",
       "      <td>-0.009633</td>\n",
       "    </tr>\n",
       "    <tr>\n",
       "      <th>564745</th>\n",
       "      <td>564745</td>\n",
       "      <td>1.422819e+09</td>\n",
       "      <td>903.0</td>\n",
       "      <td>4.0</td>\n",
       "      <td>4.832552</td>\n",
       "      <td>862.0</td>\n",
       "      <td>0.689783</td>\n",
       "      <td>0.722325</td>\n",
       "      <td>-0.035487</td>\n",
       "      <td>0.000198</td>\n",
       "      <td>...</td>\n",
       "      <td>0.000056</td>\n",
       "      <td>0.000124</td>\n",
       "      <td>0.000060</td>\n",
       "      <td>-0.000440</td>\n",
       "      <td>0.000260</td>\n",
       "      <td>0.000309</td>\n",
       "      <td>-0.000375</td>\n",
       "      <td>-0.000320</td>\n",
       "      <td>-0.000233</td>\n",
       "      <td>0.000154</td>\n",
       "    </tr>\n",
       "    <tr>\n",
       "      <th>564746</th>\n",
       "      <td>564746</td>\n",
       "      <td>1.422820e+09</td>\n",
       "      <td>238.0</td>\n",
       "      <td>1.0</td>\n",
       "      <td>4.013651</td>\n",
       "      <td>241.0</td>\n",
       "      <td>0.950291</td>\n",
       "      <td>-0.308799</td>\n",
       "      <td>-0.032223</td>\n",
       "      <td>0.001628</td>\n",
       "      <td>...</td>\n",
       "      <td>0.000204</td>\n",
       "      <td>-0.000146</td>\n",
       "      <td>-0.000084</td>\n",
       "      <td>0.000136</td>\n",
       "      <td>-0.000155</td>\n",
       "      <td>-0.000144</td>\n",
       "      <td>0.000195</td>\n",
       "      <td>0.000116</td>\n",
       "      <td>0.000153</td>\n",
       "      <td>-0.000061</td>\n",
       "    </tr>\n",
       "    <tr>\n",
       "      <th>564747</th>\n",
       "      <td>564747</td>\n",
       "      <td>1.422844e+09</td>\n",
       "      <td>93.0</td>\n",
       "      <td>1.0</td>\n",
       "      <td>4.409747</td>\n",
       "      <td>90.0</td>\n",
       "      <td>0.137278</td>\n",
       "      <td>0.034859</td>\n",
       "      <td>0.295828</td>\n",
       "      <td>-0.037263</td>\n",
       "      <td>...</td>\n",
       "      <td>-0.002732</td>\n",
       "      <td>0.001969</td>\n",
       "      <td>-0.002217</td>\n",
       "      <td>-0.001577</td>\n",
       "      <td>0.003384</td>\n",
       "      <td>0.003932</td>\n",
       "      <td>0.004929</td>\n",
       "      <td>-0.003267</td>\n",
       "      <td>0.000783</td>\n",
       "      <td>-0.000907</td>\n",
       "    </tr>\n",
       "  </tbody>\n",
       "</table>\n",
       "<p>564748 rows × 106 columns</p>\n",
       "</div>"
      ],
      "text/plain": [
       "        Unnamed: 0          time  followers  retweets  ranking_score  \\\n",
       "0                0  1.422819e+09      180.0       1.0       4.034830   \n",
       "1                1  1.422823e+09      730.0       1.0       4.021128   \n",
       "2                2  1.422836e+09      172.0       1.0       4.109626   \n",
       "3                3  1.422841e+09      308.0       1.0       4.014885   \n",
       "4                4  1.422820e+09       45.0       2.0       4.090460   \n",
       "...            ...           ...        ...       ...            ...   \n",
       "564743      564743  1.422833e+09      967.0       1.0       3.676251   \n",
       "564744      564744  1.422661e+09   363628.0      19.0       7.676606   \n",
       "564745      564745  1.422819e+09      903.0       4.0       4.832552   \n",
       "564746      564746  1.422820e+09      238.0       1.0       4.013651   \n",
       "564747      564747  1.422844e+09       93.0       1.0       4.409747   \n",
       "\n",
       "        impressions         0         1         2         3  ...        90  \\\n",
       "0             170.0  0.950291 -0.308799 -0.032223  0.001628  ...  0.000204   \n",
       "1             728.0  0.950291 -0.308799 -0.032223  0.001628  ...  0.000204   \n",
       "2             174.0  0.028737  0.077532  0.138296 -0.082138  ...  0.025732   \n",
       "3             314.0  0.016870  0.048615  0.067485  0.008780  ... -0.001037   \n",
       "4              39.0  0.950291 -0.308799 -0.032223  0.001628  ...  0.000204   \n",
       "...             ...       ...       ...       ...       ...  ...       ...   \n",
       "564743        971.0  0.021472  0.003888  0.094188 -0.058599  ...  0.083812   \n",
       "564744     352351.0  0.049330  0.008841  0.060352 -0.026919  ...  0.003454   \n",
       "564745        862.0  0.689783  0.722325 -0.035487  0.000198  ...  0.000056   \n",
       "564746        241.0  0.950291 -0.308799 -0.032223  0.001628  ...  0.000204   \n",
       "564747         90.0  0.137278  0.034859  0.295828 -0.037263  ... -0.002732   \n",
       "\n",
       "              91        92        93        94        95        96        97  \\\n",
       "0      -0.000146 -0.000084  0.000136 -0.000155 -0.000144  0.000195  0.000116   \n",
       "1      -0.000146 -0.000084  0.000136 -0.000155 -0.000144  0.000195  0.000116   \n",
       "2      -0.000540  0.044254  0.004780  0.003891 -0.024276 -0.015690  0.002581   \n",
       "3      -0.000602 -0.003414 -0.004251  0.003579  0.006936 -0.000462 -0.008469   \n",
       "4      -0.000146 -0.000084  0.000136 -0.000155 -0.000144  0.000195  0.000116   \n",
       "...          ...       ...       ...       ...       ...       ...       ...   \n",
       "564743  0.007565  0.015458  0.003446  0.026147  0.001261  0.008434  0.018731   \n",
       "564744 -0.008528  0.008447 -0.036398 -0.048370  0.013139  0.008271 -0.004793   \n",
       "564745  0.000124  0.000060 -0.000440  0.000260  0.000309 -0.000375 -0.000320   \n",
       "564746 -0.000146 -0.000084  0.000136 -0.000155 -0.000144  0.000195  0.000116   \n",
       "564747  0.001969 -0.002217 -0.001577  0.003384  0.003932  0.004929 -0.003267   \n",
       "\n",
       "              98        99  \n",
       "0       0.000153 -0.000061  \n",
       "1       0.000153 -0.000061  \n",
       "2       0.018465  0.031215  \n",
       "3      -0.002251 -0.003728  \n",
       "4       0.000153 -0.000061  \n",
       "...          ...       ...  \n",
       "564743 -0.008462  0.013854  \n",
       "564744  0.009799 -0.009633  \n",
       "564745 -0.000233  0.000154  \n",
       "564746  0.000153 -0.000061  \n",
       "564747  0.000783 -0.000907  \n",
       "\n",
       "[564748 rows x 106 columns]"
      ]
     },
     "execution_count": 7,
     "metadata": {},
     "output_type": "execute_result"
    }
   ],
   "source": [
    "test_features"
   ]
  },
  {
   "cell_type": "code",
   "execution_count": 16,
   "id": "46469fd3",
   "metadata": {},
   "outputs": [
    {
     "data": {
      "text/plain": [
       "Text(0.5, 0.98, 'time EDA')"
      ]
     },
     "execution_count": 16,
     "metadata": {},
     "output_type": "execute_result"
    },
    {
     "data": {
      "image/png": "[encoded data removed]",
      "text/plain": [
       "<Figure size 1440x720 with 4 Axes>"
      ]
     },
     "metadata": {
      "needs_background": "light"
     },
     "output_type": "display_data"
    }
   ],
   "source": [
    "plt.figure(figsize=(20,10))\n",
    "plt.subplot(221)\n",
    "plt.scatter(test_features['retweets'], test_features['time'])\n",
    "plt.xlabel('retweets')\n",
    "plt.ylabel('time')\n",
    "plt.title('retweets vs time')\n",
    "\n",
    "plt.subplot(222)\n",
    "plt.scatter(test_features['followers'], test_features['time'])\n",
    "plt.xlabel('followers')\n",
    "plt.ylabel('time')\n",
    "plt.title('followers vs time')\n",
    "\n",
    "plt.subplot(223)\n",
    "plt.scatter(test_features['impressions'], test_features['time'])\n",
    "plt.xlabel('impressions')\n",
    "plt.ylabel('time')\n",
    "plt.title('impressions vs time')\n",
    "\n",
    "plt.subplot(224)\n",
    "plt.scatter(test_features['ranking_score'], test_features['time'])\n",
    "plt.xlabel('ranking_score')\n",
    "plt.ylabel('time')\n",
    "plt.title('ranking_score vs time')\n",
    "\n",
    "plt.suptitle('time EDA')"
   ]
  },
  {
   "cell_type": "code",
   "execution_count": 15,
   "id": "3195feaa",
   "metadata": {},
   "outputs": [
    {
     "data": {
      "text/plain": [
       "Text(0.5, 0.98, 'retweet EDA')"
      ]
     },
     "execution_count": 15,
     "metadata": {},
     "output_type": "execute_result"
    },
    {
     "data": {
      "image/png": "[encoded data removed]",
      "text/plain": [
       "<Figure size 1440x720 with 4 Axes>"
      ]
     },
     "metadata": {
      "needs_background": "light"
     },
     "output_type": "display_data"
    }
   ],
   "source": [
    "plt.figure(figsize=(20,10))\n",
    "plt.subplot(221)\n",
    "plt.scatter(test_features['time'], test_features['retweets'])\n",
    "plt.xlabel('time')\n",
    "plt.ylabel('retweets')\n",
    "plt.title('time vs retweets')\n",
    "\n",
    "plt.subplot(222)\n",
    "plt.scatter(test_features['followers'], test_features['retweets'])\n",
    "plt.xlabel('followers')\n",
    "plt.ylabel('retweets')\n",
    "plt.title('followers vs retweets')\n",
    "\n",
    "plt.subplot(223)\n",
    "plt.scatter(test_features['impressions'], test_features['retweets'])\n",
    "plt.xlabel('impressions')\n",
    "plt.ylabel('retweets')\n",
    "plt.title('impressions vs retweets')\n",
    "\n",
    "plt.subplot(224)\n",
    "plt.scatter(test_features['ranking_score'], test_features['retweets'])\n",
    "plt.xlabel('ranking_score')\n",
    "plt.ylabel('retweets')\n",
    "plt.title('ranking_score vs retweets')\n",
    "\n",
    "plt.suptitle('retweet EDA')"
   ]
  },
  {
   "cell_type": "markdown",
   "id": "8a4ec0e2",
   "metadata": {
    "id": "8a4ec0e2"
   },
   "source": [
    "### Features\n",
    "- time : tweet['citation_date']\n",
    "- followers : tweet['author']['followers']\n",
    "- retweets : tweet['metrics']['citations']['total']\n",
    "- ranking_scores :  tweet['metrics']['ranking_score']\n",
    "- impressions :  tweet['metrics']['impressions']\n",
    "- bert sentence embeddings on tweet_text : tweet['tweet']['text']"
   ]
  },
  {
   "cell_type": "markdown",
   "id": "c61acd9d",
   "metadata": {
    "id": "c61acd9d"
   },
   "source": [
    "### Data Preprocessing"
   ]
  },
  {
   "cell_type": "code",
   "execution_count": 35,
   "id": "180b0a55",
   "metadata": {},
   "outputs": [
    {
     "data": {
      "text/plain": [
       "['tweets_#nfl.txt',\n",
       " 'tweets_#superbowl.txt',\n",
       " 'tweets_#sb49.txt',\n",
       " 'tweets_#patriots.txt',\n",
       " 'tweets_#gohawks.txt',\n",
       " 'tweets_#gopatriots.txt']"
      ]
     },
     "execution_count": 35,
     "metadata": {},
     "output_type": "execute_result"
    }
   ],
   "source": [
    "os.listdir(data_path)"
   ]
  },
  {
   "cell_type": "code",
   "execution_count": 39,
   "id": "9cbfb35d",
   "metadata": {},
   "outputs": [
    {
     "name": "stdout",
     "output_type": "stream",
     "text": [
      "#superbowl\n",
      "100000\n",
      "200000\n",
      "300000\n",
      "400000\n",
      "500000\n",
      "600000\n",
      "700000\n",
      "800000\n",
      "900000\n",
      "1000000\n",
      "1100000\n",
      "1200000\n"
     ]
    }
   ],
   "source": [
    "import os\n",
    "import json\n",
    "dictionary_list = []\n",
    "\n",
    "def clean_text(text, hashtags):    \n",
    "    for hashtag in hashtags:\n",
    "        text = text.replace('#' + hashtag,'')\n",
    "    return text.strip()\n",
    "\n",
    "tweet_texts = []\n",
    "for fname in ['tweets_#superbowl.txt']:\n",
    "    name  = fname[7:-4]\n",
    "    file = []\n",
    "    with open(os.path.join(data_path,fname),encoding=\"utf8\") as f:\n",
    "        for line in f:\n",
    "            file.append(line)\n",
    "    print(name)\n",
    "    for line in file:\n",
    "        tweet = json.loads(line)\n",
    "        hashtags = [hashtag_dict['text'] for hashtag_dict in tweet['tweet']['entities']['hashtags']]\n",
    "        text = tweet['tweet']['text']\n",
    "        cleaned_text = clean_text(text, hashtags).split()\n",
    "        tweet_texts += [cleaned_text]\n",
    "\n",
    "        hashtags = tweet['tweet']['entities']['hashtags']\n",
    "        hashtag1 = sum([hashtag['indices'][0] for hashtag in hashtags])\n",
    "        hashtag2 = sum([hashtag['indices'][1] for hashtag in hashtags])\n",
    "        url = tweet['url']\n",
    "        # retrieve tweet metrics\n",
    "        time = tweet['citation_date']\n",
    "        followers = tweet['author']['followers']\n",
    "        retweets = tweet['metrics']['citations']['total']\n",
    "        ranking_score =  tweet['metrics']['ranking_score']\n",
    "        impressions =  tweet['metrics']['impressions']\n",
    "        dictionary_data = {'time':time, 'followers':followers,'retweets':retweets, 'ranking_score':ranking_score,'impressions':impressions,'num_hashtags':len(hashtags), 'hashtag1':hashtag1, 'hashtag2':hashtag2, 'tweet_text':cleaned_text, 'url':url}\n",
    "        dictionary_list.append(dictionary_data)\n",
    "        if len(dictionary_list) % 100000 ==0:\n",
    "            print(len(dictionary_list))"
   ]
  },
  {
   "cell_type": "code",
   "execution_count": 48,
   "id": "8d737a48",
   "metadata": {},
   "outputs": [],
   "source": [
    "df = pd.DataFrame.from_dict(dictionary_list)"
   ]
  },
  {
   "cell_type": "code",
   "execution_count": 51,
   "id": "04d333d8",
   "metadata": {},
   "outputs": [
    {
     "data": {
      "text/plain": [
       "Index([         'time',     'followers',      'retweets', 'ranking_score',\n",
       "         'impressions',  'num_hashtags',      'hashtag1',      'hashtag2',\n",
       "          'tweet_text',           'url',               0,               1,\n",
       "                     2,               3,               4,               5,\n",
       "                     6,               7,               8,               9,\n",
       "                    10,              11,              12,              13,\n",
       "                    14,              15,              16,              17,\n",
       "                    18,              19,              20,              21,\n",
       "                    22,              23,              24],\n",
       "      dtype='object')"
      ]
     },
     "execution_count": 51,
     "metadata": {},
     "output_type": "execute_result"
    }
   ],
   "source": []
  },
  {
   "cell_type": "code",
   "execution_count": 43,
   "id": "b2d86be2",
   "metadata": {},
   "outputs": [
    {
     "data": {
      "application/vnd.jupyter.widget-view+json": {
       "model_id": "b5cbe982feca4d3ca2642862a0e102ac",
       "version_major": 2,
       "version_minor": 0
      },
      "text/plain": [
       "Downloading:   0%|          | 0.00/1.26k [00:00<?, ?B/s]"
      ]
     },
     "metadata": {},
     "output_type": "display_data"
    },
    {
     "data": {
      "application/vnd.jupyter.widget-view+json": {
       "model_id": "79fb6ecc12e34a48a676f95f15c21956",
       "version_major": 2,
       "version_minor": 0
      },
      "text/plain": [
       "Downloading:   0%|          | 0.00/231 [00:00<?, ?B/s]"
      ]
     },
     "metadata": {},
     "output_type": "display_data"
    },
    {
     "data": {
      "application/vnd.jupyter.widget-view+json": {
       "model_id": "50476139bd7b4757a9f345c448057660",
       "version_major": 2,
       "version_minor": 0
      },
      "text/plain": [
       "Downloading:   0%|          | 0.00/68.3M [00:00<?, ?B/s]"
      ]
     },
     "metadata": {},
     "output_type": "display_data"
    },
    {
     "data": {
      "application/vnd.jupyter.widget-view+json": {
       "model_id": "100539fd96aa4716b2dc79e8f31d2876",
       "version_major": 2,
       "version_minor": 0
      },
      "text/plain": [
       "Downloading:   0%|          | 0.00/119M [00:00<?, ?B/s]"
      ]
     },
     "metadata": {},
     "output_type": "display_data"
    },
    {
     "name": "stderr",
     "output_type": "stream",
     "text": [
      "WARNING:fse.models.base_s2v:found 11894 empty sentences\n"
     ]
    },
    {
     "data": {
      "text/plain": [
       "(1201919, 6843549)"
      ]
     },
     "execution_count": 43,
     "metadata": {},
     "output_type": "execute_result"
    }
   ],
   "source": [
    "from fse import Vectors, Average, IndexedList\n",
    "\n",
    "vecs = Vectors.from_pretrained(\"glove-twitter-25\")\n",
    "model = Average(vecs)\n",
    "sentences = tweet_texts\n",
    "model.train(IndexedList(sentences))"
   ]
  },
  {
   "cell_type": "code",
   "execution_count": 44,
   "id": "4aa77b5d",
   "metadata": {},
   "outputs": [
    {
     "data": {
      "text/plain": [
       "(1213813, 25)"
      ]
     },
     "execution_count": 44,
     "metadata": {},
     "output_type": "execute_result"
    }
   ],
   "source": [
    "df_new = pd.concat([df, pd.DataFrame(model.sv.vectors)], axis=1)\n",
    "df_new.columns"
   ]
  },
  {
   "cell_type": "code",
   "execution_count": 52,
   "id": "0d88d0cd",
   "metadata": {},
   "outputs": [],
   "source": [
    "df_new.to_csv('./superbowl_features.csv')"
   ]
  },
  {
   "cell_type": "code",
   "execution_count": 54,
   "id": "0c3c56bc",
   "metadata": {},
   "outputs": [],
   "source": [
    "from sklearn.model_selection import train_test_split\n",
    "\n",
    "df_new = pd.read_csv('./superbowl_features.csv',lineterminator='\\n')\n",
    "\n",
    "train, test = train_test_split(df_new, test_size=0.2, random_state=42)\n"
   ]
  },
  {
   "cell_type": "code",
   "execution_count": 55,
   "id": "8b59b785",
   "metadata": {},
   "outputs": [
    {
     "data": {
      "text/html": [
       "<div>\n",
       "<style scoped>\n",
       "    .dataframe tbody tr th:only-of-type {\n",
       "        vertical-align: middle;\n",
       "    }\n",
       "\n",
       "    .dataframe tbody tr th {\n",
       "        vertical-align: top;\n",
       "    }\n",
       "\n",
       "    .dataframe thead th {\n",
       "        text-align: right;\n",
       "    }\n",
       "</style>\n",
       "<table border=\"1\" class=\"dataframe\">\n",
       "  <thead>\n",
       "    <tr style=\"text-align: right;\">\n",
       "      <th></th>\n",
       "      <th>Unnamed: 0</th>\n",
       "      <th>time</th>\n",
       "      <th>followers</th>\n",
       "      <th>retweets</th>\n",
       "      <th>ranking_score</th>\n",
       "      <th>impressions</th>\n",
       "      <th>num_hashtags</th>\n",
       "      <th>hashtag1</th>\n",
       "      <th>hashtag2</th>\n",
       "      <th>tweet_text</th>\n",
       "      <th>...</th>\n",
       "      <th>15</th>\n",
       "      <th>16</th>\n",
       "      <th>17</th>\n",
       "      <th>18</th>\n",
       "      <th>19</th>\n",
       "      <th>20</th>\n",
       "      <th>21</th>\n",
       "      <th>22</th>\n",
       "      <th>23</th>\n",
       "      <th>24</th>\n",
       "    </tr>\n",
       "  </thead>\n",
       "  <tbody>\n",
       "    <tr>\n",
       "      <th>632652</th>\n",
       "      <td>632652</td>\n",
       "      <td>1422838764</td>\n",
       "      <td>35.0</td>\n",
       "      <td>1</td>\n",
       "      <td>4.273494</td>\n",
       "      <td>33</td>\n",
       "      <td>2</td>\n",
       "      <td>36</td>\n",
       "      <td>59</td>\n",
       "      <td>['Tied', 'baby!']</td>\n",
       "      <td>...</td>\n",
       "      <td>1.192093e-07</td>\n",
       "      <td>1.192093e-07</td>\n",
       "      <td>1.192093e-07</td>\n",
       "      <td>1.192093e-07</td>\n",
       "      <td>1.192093e-07</td>\n",
       "      <td>1.192093e-07</td>\n",
       "      <td>1.192093e-07</td>\n",
       "      <td>1.192093e-07</td>\n",
       "      <td>1.192093e-07</td>\n",
       "      <td>1.192093e-07</td>\n",
       "    </tr>\n",
       "    <tr>\n",
       "      <th>1024338</th>\n",
       "      <td>1024338</td>\n",
       "      <td>1422846294</td>\n",
       "      <td>156.0</td>\n",
       "      <td>1</td>\n",
       "      <td>4.183834</td>\n",
       "      <td>154</td>\n",
       "      <td>1</td>\n",
       "      <td>29</td>\n",
       "      <td>39</td>\n",
       "      <td>['And', \"that's\", 'why', 'both', 'teams', 'in'...</td>\n",
       "      <td>...</td>\n",
       "      <td>1.993036e-02</td>\n",
       "      <td>-1.299511e-01</td>\n",
       "      <td>-3.788565e-01</td>\n",
       "      <td>-1.116261e-01</td>\n",
       "      <td>-2.710588e-01</td>\n",
       "      <td>-1.762429e-01</td>\n",
       "      <td>4.333353e-01</td>\n",
       "      <td>-3.343302e-03</td>\n",
       "      <td>-5.024344e-01</td>\n",
       "      <td>-2.697193e-01</td>\n",
       "    </tr>\n",
       "    <tr>\n",
       "      <th>884170</th>\n",
       "      <td>884170</td>\n",
       "      <td>1422842517</td>\n",
       "      <td>80.0</td>\n",
       "      <td>1</td>\n",
       "      <td>4.187640</td>\n",
       "      <td>79</td>\n",
       "      <td>1</td>\n",
       "      <td>16</td>\n",
       "      <td>26</td>\n",
       "      <td>['AngryNeeson52.']</td>\n",
       "      <td>...</td>\n",
       "      <td>1.192093e-07</td>\n",
       "      <td>1.192093e-07</td>\n",
       "      <td>1.192093e-07</td>\n",
       "      <td>1.192093e-07</td>\n",
       "      <td>1.192093e-07</td>\n",
       "      <td>1.192093e-07</td>\n",
       "      <td>1.192093e-07</td>\n",
       "      <td>1.192093e-07</td>\n",
       "      <td>1.192093e-07</td>\n",
       "      <td>1.192093e-07</td>\n",
       "    </tr>\n",
       "    <tr>\n",
       "      <th>662822</th>\n",
       "      <td>662822</td>\n",
       "      <td>1422839228</td>\n",
       "      <td>821.0</td>\n",
       "      <td>1</td>\n",
       "      <td>7.503573</td>\n",
       "      <td>820</td>\n",
       "      <td>2</td>\n",
       "      <td>42</td>\n",
       "      <td>69</td>\n",
       "      <td>['AGORA', 'VAI', '...', 'http://t.co/atrn2JCvs0']</td>\n",
       "      <td>...</td>\n",
       "      <td>1.192093e-07</td>\n",
       "      <td>1.192093e-07</td>\n",
       "      <td>1.192093e-07</td>\n",
       "      <td>1.192093e-07</td>\n",
       "      <td>1.192093e-07</td>\n",
       "      <td>1.192093e-07</td>\n",
       "      <td>1.192093e-07</td>\n",
       "      <td>1.192093e-07</td>\n",
       "      <td>1.192093e-07</td>\n",
       "      <td>1.192093e-07</td>\n",
       "    </tr>\n",
       "    <tr>\n",
       "      <th>933720</th>\n",
       "      <td>933720</td>\n",
       "      <td>1422844210</td>\n",
       "      <td>440.0</td>\n",
       "      <td>2</td>\n",
       "      <td>4.939501</td>\n",
       "      <td>437</td>\n",
       "      <td>1</td>\n",
       "      <td>60</td>\n",
       "      <td>70</td>\n",
       "      <td>['Anyone', 'else', 'losing', 'their', 'mind', ...</td>\n",
       "      <td>...</td>\n",
       "      <td>2.566857e-01</td>\n",
       "      <td>-8.757507e-03</td>\n",
       "      <td>-4.693837e-01</td>\n",
       "      <td>6.189012e-02</td>\n",
       "      <td>-3.266335e-01</td>\n",
       "      <td>-3.108273e-01</td>\n",
       "      <td>1.906951e-01</td>\n",
       "      <td>3.379076e-01</td>\n",
       "      <td>-1.004939e-01</td>\n",
       "      <td>-4.644691e-01</td>\n",
       "    </tr>\n",
       "    <tr>\n",
       "      <th>...</th>\n",
       "      <td>...</td>\n",
       "      <td>...</td>\n",
       "      <td>...</td>\n",
       "      <td>...</td>\n",
       "      <td>...</td>\n",
       "      <td>...</td>\n",
       "      <td>...</td>\n",
       "      <td>...</td>\n",
       "      <td>...</td>\n",
       "      <td>...</td>\n",
       "      <td>...</td>\n",
       "      <td>...</td>\n",
       "      <td>...</td>\n",
       "      <td>...</td>\n",
       "      <td>...</td>\n",
       "      <td>...</td>\n",
       "      <td>...</td>\n",
       "      <td>...</td>\n",
       "      <td>...</td>\n",
       "      <td>...</td>\n",
       "      <td>...</td>\n",
       "    </tr>\n",
       "    <tr>\n",
       "      <th>110268</th>\n",
       "      <td>110268</td>\n",
       "      <td>1422555908</td>\n",
       "      <td>330.0</td>\n",
       "      <td>1</td>\n",
       "      <td>4.176391</td>\n",
       "      <td>304</td>\n",
       "      <td>1</td>\n",
       "      <td>0</td>\n",
       "      <td>10</td>\n",
       "      <td>['tickets.....$8,070', 'lol']</td>\n",
       "      <td>...</td>\n",
       "      <td>7.804301e-01</td>\n",
       "      <td>3.978701e-01</td>\n",
       "      <td>-9.308999e-01</td>\n",
       "      <td>-1.410000e+00</td>\n",
       "      <td>3.262401e-01</td>\n",
       "      <td>1.231100e+00</td>\n",
       "      <td>4.248601e-01</td>\n",
       "      <td>7.066501e-01</td>\n",
       "      <td>7.698501e-01</td>\n",
       "      <td>2.082601e-01</td>\n",
       "    </tr>\n",
       "    <tr>\n",
       "      <th>259178</th>\n",
       "      <td>259178</td>\n",
       "      <td>1422829599</td>\n",
       "      <td>27232.0</td>\n",
       "      <td>1</td>\n",
       "      <td>7.242561</td>\n",
       "      <td>27033</td>\n",
       "      <td>6</td>\n",
       "      <td>428</td>\n",
       "      <td>503</td>\n",
       "      <td>['Im', 'treffen', 'gleich', 'die', 'auf', 'die...</td>\n",
       "      <td>...</td>\n",
       "      <td>-2.072734e-03</td>\n",
       "      <td>6.084273e-01</td>\n",
       "      <td>4.859133e-01</td>\n",
       "      <td>-1.684790e+00</td>\n",
       "      <td>-1.174999e+00</td>\n",
       "      <td>1.792527e-01</td>\n",
       "      <td>1.865587e-01</td>\n",
       "      <td>-5.557249e-01</td>\n",
       "      <td>3.526284e-01</td>\n",
       "      <td>8.930744e-01</td>\n",
       "    </tr>\n",
       "    <tr>\n",
       "      <th>131932</th>\n",
       "      <td>131932</td>\n",
       "      <td>1422642249</td>\n",
       "      <td>254.0</td>\n",
       "      <td>1</td>\n",
       "      <td>4.176391</td>\n",
       "      <td>256</td>\n",
       "      <td>2</td>\n",
       "      <td>145</td>\n",
       "      <td>161</td>\n",
       "      <td>['This', 'is', 'quite', 'possibly', 'the', 'be...</td>\n",
       "      <td>...</td>\n",
       "      <td>3.478038e-01</td>\n",
       "      <td>6.198068e-01</td>\n",
       "      <td>-1.963100e-01</td>\n",
       "      <td>1.190679e-01</td>\n",
       "      <td>-4.589355e-01</td>\n",
       "      <td>-1.026787e-02</td>\n",
       "      <td>2.203342e-01</td>\n",
       "      <td>-1.030308e-01</td>\n",
       "      <td>1.698514e-01</td>\n",
       "      <td>-2.767464e-01</td>\n",
       "    </tr>\n",
       "    <tr>\n",
       "      <th>671155</th>\n",
       "      <td>671155</td>\n",
       "      <td>1422839387</td>\n",
       "      <td>111.0</td>\n",
       "      <td>1</td>\n",
       "      <td>4.182061</td>\n",
       "      <td>94</td>\n",
       "      <td>3</td>\n",
       "      <td>95</td>\n",
       "      <td>133</td>\n",
       "      <td>['Year', 'of', 'the', 'dads.', 'XLIX']</td>\n",
       "      <td>...</td>\n",
       "      <td>-3.636649e-01</td>\n",
       "      <td>4.467101e-01</td>\n",
       "      <td>3.256498e-01</td>\n",
       "      <td>-1.544599e-01</td>\n",
       "      <td>2.445051e-01</td>\n",
       "      <td>-8.262149e-01</td>\n",
       "      <td>1.384751e-01</td>\n",
       "      <td>-2.148349e-01</td>\n",
       "      <td>-6.942099e-01</td>\n",
       "      <td>-1.909864e-01</td>\n",
       "    </tr>\n",
       "    <tr>\n",
       "      <th>121958</th>\n",
       "      <td>121958</td>\n",
       "      <td>1422608443</td>\n",
       "      <td>19912.0</td>\n",
       "      <td>1</td>\n",
       "      <td>4.146872</td>\n",
       "      <td>19538</td>\n",
       "      <td>2</td>\n",
       "      <td>43</td>\n",
       "      <td>64</td>\n",
       "      <td>['Las', 'famosas', 'que', 'harán', 'arder', 'e...</td>\n",
       "      <td>...</td>\n",
       "      <td>7.805343e-01</td>\n",
       "      <td>-1.309039e-01</td>\n",
       "      <td>2.892021e-01</td>\n",
       "      <td>5.170222e-01</td>\n",
       "      <td>-8.852882e-03</td>\n",
       "      <td>1.524041e-01</td>\n",
       "      <td>-1.338799e-01</td>\n",
       "      <td>3.510517e-01</td>\n",
       "      <td>-1.025917e-01</td>\n",
       "      <td>5.094750e-01</td>\n",
       "    </tr>\n",
       "  </tbody>\n",
       "</table>\n",
       "<p>971050 rows × 36 columns</p>\n",
       "</div>"
      ],
      "text/plain": [
       "         Unnamed: 0        time  followers  retweets  ranking_score  \\\n",
       "632652       632652  1422838764       35.0         1       4.273494   \n",
       "1024338     1024338  1422846294      156.0         1       4.183834   \n",
       "884170       884170  1422842517       80.0         1       4.187640   \n",
       "662822       662822  1422839228      821.0         1       7.503573   \n",
       "933720       933720  1422844210      440.0         2       4.939501   \n",
       "...             ...         ...        ...       ...            ...   \n",
       "110268       110268  1422555908      330.0         1       4.176391   \n",
       "259178       259178  1422829599    27232.0         1       7.242561   \n",
       "131932       131932  1422642249      254.0         1       4.176391   \n",
       "671155       671155  1422839387      111.0         1       4.182061   \n",
       "121958       121958  1422608443    19912.0         1       4.146872   \n",
       "\n",
       "         impressions  num_hashtags  hashtag1  hashtag2  \\\n",
       "632652            33             2        36        59   \n",
       "1024338          154             1        29        39   \n",
       "884170            79             1        16        26   \n",
       "662822           820             2        42        69   \n",
       "933720           437             1        60        70   \n",
       "...              ...           ...       ...       ...   \n",
       "110268           304             1         0        10   \n",
       "259178         27033             6       428       503   \n",
       "131932           256             2       145       161   \n",
       "671155            94             3        95       133   \n",
       "121958         19538             2        43        64   \n",
       "\n",
       "                                                tweet_text  ...            15  \\\n",
       "632652                                   ['Tied', 'baby!']  ...  1.192093e-07   \n",
       "1024338  ['And', \"that's\", 'why', 'both', 'teams', 'in'...  ...  1.993036e-02   \n",
       "884170                                  ['AngryNeeson52.']  ...  1.192093e-07   \n",
       "662822   ['AGORA', 'VAI', '...', 'http://t.co/atrn2JCvs0']  ...  1.192093e-07   \n",
       "933720   ['Anyone', 'else', 'losing', 'their', 'mind', ...  ...  2.566857e-01   \n",
       "...                                                    ...  ...           ...   \n",
       "110268                       ['tickets.....$8,070', 'lol']  ...  7.804301e-01   \n",
       "259178   ['Im', 'treffen', 'gleich', 'die', 'auf', 'die...  ... -2.072734e-03   \n",
       "131932   ['This', 'is', 'quite', 'possibly', 'the', 'be...  ...  3.478038e-01   \n",
       "671155              ['Year', 'of', 'the', 'dads.', 'XLIX']  ... -3.636649e-01   \n",
       "121958   ['Las', 'famosas', 'que', 'harán', 'arder', 'e...  ...  7.805343e-01   \n",
       "\n",
       "                   16            17            18            19            20  \\\n",
       "632652   1.192093e-07  1.192093e-07  1.192093e-07  1.192093e-07  1.192093e-07   \n",
       "1024338 -1.299511e-01 -3.788565e-01 -1.116261e-01 -2.710588e-01 -1.762429e-01   \n",
       "884170   1.192093e-07  1.192093e-07  1.192093e-07  1.192093e-07  1.192093e-07   \n",
       "662822   1.192093e-07  1.192093e-07  1.192093e-07  1.192093e-07  1.192093e-07   \n",
       "933720  -8.757507e-03 -4.693837e-01  6.189012e-02 -3.266335e-01 -3.108273e-01   \n",
       "...               ...           ...           ...           ...           ...   \n",
       "110268   3.978701e-01 -9.308999e-01 -1.410000e+00  3.262401e-01  1.231100e+00   \n",
       "259178   6.084273e-01  4.859133e-01 -1.684790e+00 -1.174999e+00  1.792527e-01   \n",
       "131932   6.198068e-01 -1.963100e-01  1.190679e-01 -4.589355e-01 -1.026787e-02   \n",
       "671155   4.467101e-01  3.256498e-01 -1.544599e-01  2.445051e-01 -8.262149e-01   \n",
       "121958  -1.309039e-01  2.892021e-01  5.170222e-01 -8.852882e-03  1.524041e-01   \n",
       "\n",
       "                   21            22            23            24  \n",
       "632652   1.192093e-07  1.192093e-07  1.192093e-07  1.192093e-07  \n",
       "1024338  4.333353e-01 -3.343302e-03 -5.024344e-01 -2.697193e-01  \n",
       "884170   1.192093e-07  1.192093e-07  1.192093e-07  1.192093e-07  \n",
       "662822   1.192093e-07  1.192093e-07  1.192093e-07  1.192093e-07  \n",
       "933720   1.906951e-01  3.379076e-01 -1.004939e-01 -4.644691e-01  \n",
       "...               ...           ...           ...           ...  \n",
       "110268   4.248601e-01  7.066501e-01  7.698501e-01  2.082601e-01  \n",
       "259178   1.865587e-01 -5.557249e-01  3.526284e-01  8.930744e-01  \n",
       "131932   2.203342e-01 -1.030308e-01  1.698514e-01 -2.767464e-01  \n",
       "671155   1.384751e-01 -2.148349e-01 -6.942099e-01 -1.909864e-01  \n",
       "121958  -1.338799e-01  3.510517e-01 -1.025917e-01  5.094750e-01  \n",
       "\n",
       "[971050 rows x 36 columns]"
      ]
     },
     "execution_count": 55,
     "metadata": {},
     "output_type": "execute_result"
    }
   ],
   "source": [
    "train"
   ]
  },
  {
   "cell_type": "code",
   "execution_count": 56,
   "id": "097b2c0a",
   "metadata": {},
   "outputs": [
    {
     "name": "stdout",
     "output_type": "stream",
     "text": [
      "ERROR! Session/line number was not unique in database. History logging moved to new session 247\n"
     ]
    }
   ],
   "source": [
    "#%% Defining the data and labels for model fitting for retweet prediction\n",
    "features = [\"time\",\"followers\", \"ranking_score\", \"impressions\",'num_hashtags','hashtag1', 'hashtag2'] \n",
    "\n",
    "toTrain = train[features]\n",
    "trainLabels = train[\"retweets\"]\n",
    "toTest = test[features]\n",
    "testLabels = test[\"retweets\"]\n"
   ]
  },
  {
   "cell_type": "code",
   "execution_count": 130,
   "id": "758b7355",
   "metadata": {},
   "outputs": [
    {
     "name": "stdout",
     "output_type": "stream",
     "text": [
      "retweets ['time', 'followers', 'ranking_score', 'impressions', 'num_hashtags', 'hashtag1', 'hashtag2']\n",
      "Fitting 5 folds for each of 7 candidates, totalling 35 fits\n",
      "[CV 1/5] END .......hidden_layer_sizes=(20,);, score=-655.862 total time= 1.2min\n",
      "[CV 2/5] END .......hidden_layer_sizes=(20,);, score=-929.707 total time= 2.7min\n",
      "[CV 3/5] END ......hidden_layer_sizes=(20,);, score=-2698.930 total time=  33.4s\n",
      "[CV 4/5] END ......hidden_layer_sizes=(20,);, score=-2100.466 total time= 1.1min\n",
      "[CV 5/5] END ......hidden_layer_sizes=(20,);, score=-1593.547 total time= 1.2min\n",
      "[CV 1/5] END .......hidden_layer_sizes=(50,);, score=-655.543 total time= 1.7min\n",
      "[CV 2/5] END .......hidden_layer_sizes=(50,);, score=-937.503 total time= 1.7min\n",
      "[CV 3/5] END ......hidden_layer_sizes=(50,);, score=-2696.750 total time=  29.6s\n",
      "[CV 4/5] END ......hidden_layer_sizes=(50,);, score=-2097.872 total time= 1.6min\n",
      "[CV 5/5] END ......hidden_layer_sizes=(50,);, score=-1590.383 total time= 2.2min\n",
      "[CV 1/5] END ......hidden_layer_sizes=(100,);, score=-654.205 total time=  30.4s\n",
      "[CV 2/5] END ......hidden_layer_sizes=(100,);, score=-918.676 total time= 2.3min\n",
      "[CV 3/5] END .....hidden_layer_sizes=(100,);, score=-2695.030 total time= 1.9min\n",
      "[CV 4/5] END .....hidden_layer_sizes=(100,);, score=-2100.676 total time=  55.8s\n",
      "[CV 5/5] END .....hidden_layer_sizes=(100,);, score=-1590.201 total time= 1.9min\n",
      "[CV 1/5] END ......hidden_layer_sizes=(200,);, score=-654.780 total time= 1.5min\n",
      "[CV 2/5] END ......hidden_layer_sizes=(200,);, score=-994.131 total time= 8.2min\n",
      "[CV 3/5] END .....hidden_layer_sizes=(200,);, score=-2693.248 total time= 2.0min\n",
      "[CV 4/5] END .....hidden_layer_sizes=(200,);, score=-2101.747 total time= 1.2min\n",
      "[CV 5/5] END .....hidden_layer_sizes=(200,);, score=-1592.560 total time=  59.6s\n",
      "[CV 1/5] END ....hidden_layer_sizes=(20, 20);, score=-664.004 total time=  42.5s\n",
      "[CV 2/5] END ....hidden_layer_sizes=(20, 20);, score=-959.554 total time= 4.4min\n",
      "[CV 3/5] END ...hidden_layer_sizes=(20, 20);, score=-2692.235 total time=  43.9s\n",
      "[CV 4/5] END ...hidden_layer_sizes=(20, 20);, score=-2090.843 total time= 2.2min\n",
      "[CV 5/5] END ...hidden_layer_sizes=(20, 20);, score=-1592.099 total time= 2.6min\n",
      "[CV 1/5] END ....hidden_layer_sizes=(50, 50);, score=-640.527 total time= 4.9min\n",
      "[CV 2/5] END ....hidden_layer_sizes=(50, 50);, score=-989.084 total time= 6.8min\n",
      "[CV 3/5] END ...hidden_layer_sizes=(50, 50);, score=-2677.833 total time= 2.3min\n",
      "[CV 4/5] END ...hidden_layer_sizes=(50, 50);, score=-2098.309 total time= 2.2min\n",
      "[CV 5/5] END ...hidden_layer_sizes=(50, 50);, score=-1608.602 total time= 3.5min\n",
      "[CV 1/5] END ..hidden_layer_sizes=(100, 100);, score=-655.325 total time= 8.9min\n",
      "[CV 2/5] END ..hidden_layer_sizes=(100, 100);, score=-916.144 total time=14.4min\n",
      "[CV 3/5] END .hidden_layer_sizes=(100, 100);, score=-2693.208 total time= 1.7min\n",
      "[CV 4/5] END .hidden_layer_sizes=(100, 100);, score=-2096.372 total time=46.2min\n",
      "[CV 5/5] END .hidden_layer_sizes=(100, 100);, score=-1613.508 total time=17.1min\n",
      "Best estimator for retweets: \n",
      " MLPRegressor()\n",
      "Best score for retweets:  1591.7575782977879\n",
      "Best parameters for retweets:  {'hidden_layer_sizes': (100,)}\n",
      "time ['retweets', 'followers', 'ranking_score', 'impressions', 'num_hashtags', 'hashtag1', 'hashtag2']\n",
      "Fitting 5 folds for each of 7 candidates, totalling 35 fits\n"
     ]
    },
    {
     "name": "stderr",
     "output_type": "stream",
     "text": [
      "/usr/local/lib/python3.9/site-packages/sklearn/neural_network/_multilayer_perceptron.py:692: ConvergenceWarning: Stochastic Optimizer: Maximum iterations (200) reached and the optimization hasn't converged yet.\n",
      "  warnings.warn(\n"
     ]
    },
    {
     "name": "stdout",
     "output_type": "stream",
     "text": [
      "[CV 1/5] END hidden_layer_sizes=(20,);, score=-1978584983478415872.000 total time= 5.0min\n"
     ]
    },
    {
     "name": "stderr",
     "output_type": "stream",
     "text": [
      "/usr/local/lib/python3.9/site-packages/sklearn/neural_network/_multilayer_perceptron.py:692: ConvergenceWarning: Stochastic Optimizer: Maximum iterations (200) reached and the optimization hasn't converged yet.\n",
      "  warnings.warn(\n"
     ]
    },
    {
     "name": "stdout",
     "output_type": "stream",
     "text": [
      "[CV 2/5] END hidden_layer_sizes=(20,);, score=-1982244773929415168.000 total time= 5.6min\n"
     ]
    },
    {
     "name": "stderr",
     "output_type": "stream",
     "text": [
      "/usr/local/lib/python3.9/site-packages/sklearn/neural_network/_multilayer_perceptron.py:692: ConvergenceWarning: Stochastic Optimizer: Maximum iterations (200) reached and the optimization hasn't converged yet.\n",
      "  warnings.warn(\n"
     ]
    },
    {
     "name": "stdout",
     "output_type": "stream",
     "text": [
      "[CV 3/5] END hidden_layer_sizes=(20,);, score=-1970700237459296768.000 total time= 4.3min\n"
     ]
    },
    {
     "name": "stderr",
     "output_type": "stream",
     "text": [
      "/usr/local/lib/python3.9/site-packages/sklearn/neural_network/_multilayer_perceptron.py:692: ConvergenceWarning: Stochastic Optimizer: Maximum iterations (200) reached and the optimization hasn't converged yet.\n",
      "  warnings.warn(\n"
     ]
    },
    {
     "name": "stdout",
     "output_type": "stream",
     "text": [
      "[CV 4/5] END hidden_layer_sizes=(20,);, score=-1973708708659981568.000 total time= 4.6min\n"
     ]
    },
    {
     "name": "stderr",
     "output_type": "stream",
     "text": [
      "/usr/local/lib/python3.9/site-packages/sklearn/neural_network/_multilayer_perceptron.py:692: ConvergenceWarning: Stochastic Optimizer: Maximum iterations (200) reached and the optimization hasn't converged yet.\n",
      "  warnings.warn(\n"
     ]
    },
    {
     "name": "stdout",
     "output_type": "stream",
     "text": [
      "[CV 5/5] END hidden_layer_sizes=(20,);, score=-1985080219125247744.000 total time= 5.8min\n"
     ]
    },
    {
     "name": "stderr",
     "output_type": "stream",
     "text": [
      "/usr/local/lib/python3.9/site-packages/sklearn/neural_network/_multilayer_perceptron.py:692: ConvergenceWarning: Stochastic Optimizer: Maximum iterations (200) reached and the optimization hasn't converged yet.\n",
      "  warnings.warn(\n"
     ]
    },
    {
     "name": "stdout",
     "output_type": "stream",
     "text": [
      "[CV 1/5] END hidden_layer_sizes=(50,);, score=-1935055376630835200.000 total time=11.5min\n"
     ]
    },
    {
     "name": "stderr",
     "output_type": "stream",
     "text": [
      "/usr/local/lib/python3.9/site-packages/sklearn/neural_network/_multilayer_perceptron.py:692: ConvergenceWarning: Stochastic Optimizer: Maximum iterations (200) reached and the optimization hasn't converged yet.\n",
      "  warnings.warn(\n"
     ]
    },
    {
     "name": "stdout",
     "output_type": "stream",
     "text": [
      "[CV 2/5] END hidden_layer_sizes=(50,);, score=-1899330429608312832.000 total time= 7.2min\n"
     ]
    },
    {
     "name": "stderr",
     "output_type": "stream",
     "text": [
      "/usr/local/lib/python3.9/site-packages/sklearn/neural_network/_multilayer_perceptron.py:692: ConvergenceWarning: Stochastic Optimizer: Maximum iterations (200) reached and the optimization hasn't converged yet.\n",
      "  warnings.warn(\n"
     ]
    },
    {
     "name": "stdout",
     "output_type": "stream",
     "text": [
      "[CV 3/5] END hidden_layer_sizes=(50,);, score=-1899663928080587776.000 total time= 8.1min\n"
     ]
    },
    {
     "name": "stderr",
     "output_type": "stream",
     "text": [
      "/usr/local/lib/python3.9/site-packages/sklearn/neural_network/_multilayer_perceptron.py:692: ConvergenceWarning: Stochastic Optimizer: Maximum iterations (200) reached and the optimization hasn't converged yet.\n",
      "  warnings.warn(\n"
     ]
    },
    {
     "name": "stdout",
     "output_type": "stream",
     "text": [
      "[CV 4/5] END hidden_layer_sizes=(50,);, score=-1911021366881988864.000 total time= 8.3min\n"
     ]
    },
    {
     "name": "stderr",
     "output_type": "stream",
     "text": [
      "/usr/local/lib/python3.9/site-packages/sklearn/neural_network/_multilayer_perceptron.py:692: ConvergenceWarning: Stochastic Optimizer: Maximum iterations (200) reached and the optimization hasn't converged yet.\n",
      "  warnings.warn(\n"
     ]
    },
    {
     "name": "stdout",
     "output_type": "stream",
     "text": [
      "[CV 5/5] END hidden_layer_sizes=(50,);, score=-1905859024923261440.000 total time= 7.8min\n"
     ]
    },
    {
     "name": "stderr",
     "output_type": "stream",
     "text": [
      "/usr/local/lib/python3.9/site-packages/sklearn/neural_network/_multilayer_perceptron.py:692: ConvergenceWarning: Stochastic Optimizer: Maximum iterations (200) reached and the optimization hasn't converged yet.\n",
      "  warnings.warn(\n"
     ]
    },
    {
     "name": "stdout",
     "output_type": "stream",
     "text": [
      "[CV 1/5] END hidden_layer_sizes=(100,);, score=-1783047513475545088.000 total time=11.4min\n"
     ]
    },
    {
     "name": "stderr",
     "output_type": "stream",
     "text": [
      "/usr/local/lib/python3.9/site-packages/sklearn/neural_network/_multilayer_perceptron.py:692: ConvergenceWarning: Stochastic Optimizer: Maximum iterations (200) reached and the optimization hasn't converged yet.\n",
      "  warnings.warn(\n"
     ]
    },
    {
     "name": "stdout",
     "output_type": "stream",
     "text": [
      "[CV 2/5] END hidden_layer_sizes=(100,);, score=-1775808577739655680.000 total time=10.5min\n"
     ]
    },
    {
     "name": "stderr",
     "output_type": "stream",
     "text": [
      "/usr/local/lib/python3.9/site-packages/sklearn/neural_network/_multilayer_perceptron.py:692: ConvergenceWarning: Stochastic Optimizer: Maximum iterations (200) reached and the optimization hasn't converged yet.\n",
      "  warnings.warn(\n"
     ]
    },
    {
     "name": "stdout",
     "output_type": "stream",
     "text": [
      "[CV 3/5] END hidden_layer_sizes=(100,);, score=-1805720173265582592.000 total time=13.5min\n"
     ]
    },
    {
     "name": "stderr",
     "output_type": "stream",
     "text": [
      "/usr/local/lib/python3.9/site-packages/sklearn/neural_network/_multilayer_perceptron.py:692: ConvergenceWarning: Stochastic Optimizer: Maximum iterations (200) reached and the optimization hasn't converged yet.\n",
      "  warnings.warn(\n"
     ]
    },
    {
     "name": "stdout",
     "output_type": "stream",
     "text": [
      "[CV 4/5] END hidden_layer_sizes=(100,);, score=-1773116873267745792.000 total time=10.5min\n"
     ]
    },
    {
     "name": "stderr",
     "output_type": "stream",
     "text": [
      "/usr/local/lib/python3.9/site-packages/sklearn/neural_network/_multilayer_perceptron.py:692: ConvergenceWarning: Stochastic Optimizer: Maximum iterations (200) reached and the optimization hasn't converged yet.\n",
      "  warnings.warn(\n"
     ]
    },
    {
     "name": "stdout",
     "output_type": "stream",
     "text": [
      "[CV 5/5] END hidden_layer_sizes=(100,);, score=-1784243912356752896.000 total time=11.6min\n"
     ]
    },
    {
     "name": "stderr",
     "output_type": "stream",
     "text": [
      "/usr/local/lib/python3.9/site-packages/sklearn/neural_network/_multilayer_perceptron.py:692: ConvergenceWarning: Stochastic Optimizer: Maximum iterations (200) reached and the optimization hasn't converged yet.\n",
      "  warnings.warn(\n"
     ]
    },
    {
     "name": "stdout",
     "output_type": "stream",
     "text": [
      "[CV 1/5] END hidden_layer_sizes=(200,);, score=-1600960016530164992.000 total time=21.1min\n"
     ]
    },
    {
     "name": "stderr",
     "output_type": "stream",
     "text": [
      "/usr/local/lib/python3.9/site-packages/sklearn/neural_network/_multilayer_perceptron.py:692: ConvergenceWarning: Stochastic Optimizer: Maximum iterations (200) reached and the optimization hasn't converged yet.\n",
      "  warnings.warn(\n"
     ]
    },
    {
     "name": "stdout",
     "output_type": "stream",
     "text": [
      "[CV 2/5] END hidden_layer_sizes=(200,);, score=-1578180443447232768.000 total time=20.1min\n"
     ]
    },
    {
     "name": "stderr",
     "output_type": "stream",
     "text": [
      "/usr/local/lib/python3.9/site-packages/sklearn/neural_network/_multilayer_perceptron.py:692: ConvergenceWarning: Stochastic Optimizer: Maximum iterations (200) reached and the optimization hasn't converged yet.\n",
      "  warnings.warn(\n"
     ]
    },
    {
     "name": "stdout",
     "output_type": "stream",
     "text": [
      "[CV 3/5] END hidden_layer_sizes=(200,);, score=-1595824666921583104.000 total time=19.4min\n"
     ]
    },
    {
     "name": "stderr",
     "output_type": "stream",
     "text": [
      "/usr/local/lib/python3.9/site-packages/sklearn/neural_network/_multilayer_perceptron.py:692: ConvergenceWarning: Stochastic Optimizer: Maximum iterations (200) reached and the optimization hasn't converged yet.\n",
      "  warnings.warn(\n"
     ]
    },
    {
     "name": "stdout",
     "output_type": "stream",
     "text": [
      "[CV 4/5] END hidden_layer_sizes=(200,);, score=-1606369462366693632.000 total time=21.1min\n"
     ]
    },
    {
     "name": "stderr",
     "output_type": "stream",
     "text": [
      "/usr/local/lib/python3.9/site-packages/sklearn/neural_network/_multilayer_perceptron.py:692: ConvergenceWarning: Stochastic Optimizer: Maximum iterations (200) reached and the optimization hasn't converged yet.\n",
      "  warnings.warn(\n"
     ]
    },
    {
     "name": "stdout",
     "output_type": "stream",
     "text": [
      "[CV 5/5] END hidden_layer_sizes=(200,);, score=-1608852136708598528.000 total time=21.0min\n"
     ]
    },
    {
     "name": "stderr",
     "output_type": "stream",
     "text": [
      "/usr/local/lib/python3.9/site-packages/sklearn/neural_network/_multilayer_perceptron.py:692: ConvergenceWarning: Stochastic Optimizer: Maximum iterations (200) reached and the optimization hasn't converged yet.\n",
      "  warnings.warn(\n"
     ]
    },
    {
     "name": "stdout",
     "output_type": "stream",
     "text": [
      "[CV 1/5] END hidden_layer_sizes=(20, 20);, score=-177730853351.220 total time= 8.3min\n"
     ]
    },
    {
     "name": "stderr",
     "output_type": "stream",
     "text": [
      "/usr/local/lib/python3.9/site-packages/sklearn/neural_network/_multilayer_perceptron.py:692: ConvergenceWarning: Stochastic Optimizer: Maximum iterations (200) reached and the optimization hasn't converged yet.\n",
      "  warnings.warn(\n"
     ]
    },
    {
     "name": "stdout",
     "output_type": "stream",
     "text": [
      "[CV 2/5] END hidden_layer_sizes=(20, 20);, score=-400979572146.812 total time= 8.1min\n"
     ]
    },
    {
     "name": "stderr",
     "output_type": "stream",
     "text": [
      "/usr/local/lib/python3.9/site-packages/sklearn/neural_network/_multilayer_perceptron.py:692: ConvergenceWarning: Stochastic Optimizer: Maximum iterations (200) reached and the optimization hasn't converged yet.\n",
      "  warnings.warn(\n"
     ]
    },
    {
     "name": "stdout",
     "output_type": "stream",
     "text": [
      "[CV 3/5] END hidden_layer_sizes=(20, 20);, score=-259913467003.211 total time= 7.0min\n"
     ]
    },
    {
     "name": "stderr",
     "output_type": "stream",
     "text": [
      "/usr/local/lib/python3.9/site-packages/sklearn/neural_network/_multilayer_perceptron.py:692: ConvergenceWarning: Stochastic Optimizer: Maximum iterations (200) reached and the optimization hasn't converged yet.\n",
      "  warnings.warn(\n"
     ]
    },
    {
     "name": "stdout",
     "output_type": "stream",
     "text": [
      "[CV 4/5] END hidden_layer_sizes=(20, 20);, score=-4550001407911.655 total time= 8.1min\n"
     ]
    },
    {
     "name": "stderr",
     "output_type": "stream",
     "text": [
      "/usr/local/lib/python3.9/site-packages/sklearn/neural_network/_multilayer_perceptron.py:692: ConvergenceWarning: Stochastic Optimizer: Maximum iterations (200) reached and the optimization hasn't converged yet.\n",
      "  warnings.warn(\n"
     ]
    },
    {
     "name": "stdout",
     "output_type": "stream",
     "text": [
      "[CV 5/5] END hidden_layer_sizes=(20, 20);, score=-829542054319.500 total time= 6.9min\n"
     ]
    },
    {
     "name": "stderr",
     "output_type": "stream",
     "text": [
      "/usr/local/lib/python3.9/site-packages/sklearn/neural_network/_multilayer_perceptron.py:692: ConvergenceWarning: Stochastic Optimizer: Maximum iterations (200) reached and the optimization hasn't converged yet.\n",
      "  warnings.warn(\n"
     ]
    },
    {
     "name": "stdout",
     "output_type": "stream",
     "text": [
      "[CV 1/5] END hidden_layer_sizes=(50, 50);, score=-77013735533.237 total time=26.2min\n"
     ]
    },
    {
     "name": "stderr",
     "output_type": "stream",
     "text": [
      "/usr/local/lib/python3.9/site-packages/sklearn/neural_network/_multilayer_perceptron.py:692: ConvergenceWarning: Stochastic Optimizer: Maximum iterations (200) reached and the optimization hasn't converged yet.\n",
      "  warnings.warn(\n"
     ]
    },
    {
     "name": "stdout",
     "output_type": "stream",
     "text": [
      "[CV 2/5] END hidden_layer_sizes=(50, 50);, score=-76269847418.818 total time=23.3min\n",
      "[CV 3/5] END hidden_layer_sizes=(50, 50);, score=-169172414547.830 total time=22.5min\n",
      "[CV 4/5] END hidden_layer_sizes=(50, 50);, score=-8877951695709.168 total time=17.8min\n",
      "[CV 5/5] END hidden_layer_sizes=(50, 50);, score=-76996826387.331 total time=17.3min\n",
      "[CV 1/5] END hidden_layer_sizes=(100, 100);, score=-75715139990.065 total time=43.9min\n",
      "[CV 2/5] END hidden_layer_sizes=(100, 100);, score=-76790553792.947 total time=75.8min\n",
      "[CV 3/5] END hidden_layer_sizes=(100, 100);, score=-130460589378.616 total time=37.6min\n",
      "[CV 4/5] END hidden_layer_sizes=(100, 100);, score=-7950106639644.657 total time=45.7min\n",
      "[CV 5/5] END hidden_layer_sizes=(100, 100);, score=-75960292638.943 total time=54.6min\n",
      "Best estimator for time: \n",
      " MLPRegressor(hidden_layer_sizes=(20, 20))\n",
      "Best score for time:  1243633470946.48\n",
      "Best parameters for time:  {'hidden_layer_sizes': (20, 20)}\n"
     ]
    },
    {
     "name": "stderr",
     "output_type": "stream",
     "text": [
      "/usr/local/lib/python3.9/site-packages/sklearn/neural_network/_multilayer_perceptron.py:692: ConvergenceWarning: Stochastic Optimizer: Maximum iterations (200) reached and the optimization hasn't converged yet.\n",
      "  warnings.warn(\n"
     ]
    }
   ],
   "source": [
    "#%%\n",
    "import pickle\n",
    "from sklearn.preprocessing import StandardScaler\n",
    "from sklearn.neural_network import MLPRegressor\n",
    "from sklearn.model_selection import GridSearchCV, KFold\n",
    "\n",
    "#%% Defining the data and labels for model fitting for retweet prediction\n",
    "retweet_features = [\"time\",\"followers\", \"ranking_score\", \"impressions\",'num_hashtags','hashtag1', 'hashtag2'] \n",
    "time_features = [\"retweets\",\"followers\", \"ranking_score\", \"impressions\",'num_hashtags','hashtag1', 'hashtag2'] \n",
    "training_dict = {'retweets': retweet_features, 'time': time_features}\n",
    "\n",
    "for label, features in training_dict.items():\n",
    "    print(label, features)\n",
    "    # prep data\n",
    "    toTrain = train[features]\n",
    "    trainLabels = train[label]\n",
    "    toTest = test[features]\n",
    "    testLabels = test[label]\n",
    "    # prepare training framework\n",
    "    ss = StandardScaler()\n",
    "    X = ss.fit_transform(toTrain)\n",
    "    y = trainLabels\n",
    "    param = {'hidden_layer_sizes':[(20,), \n",
    "                                (50,),\n",
    "                                (100,),\n",
    "                                (200,),\n",
    "                                (20,20,), \n",
    "                                (50,50),\n",
    "                                (100,100),\n",
    "                                 ] }\n",
    "    nn = MLPRegressor()\n",
    "    clf = GridSearchCV(nn,param,cv=KFold(n_splits=5,shuffle=True),scoring='neg_mean_squared_error',verbose=3)\n",
    "    # train\n",
    "    clf.fit(X,y)\n",
    "    print(\"Best estimator for \"+label+\": \\n\", clf.best_estimator_)\n",
    "    print(\"Best score for \"+label+\": \", -1*clf.best_score_)\n",
    "    print(\"Best parameters for \"+label+\": \", clf.best_params_)\n",
    "\n",
    "    # save the gridsearch to disk\n",
    "    filename = './' + label+'_gridsearch.sav'\n",
    "    pickle.dump(clf, open(filename, 'wb'))\n",
    "\n",
    "    # some time later...\n",
    "    # load the model from disk\n",
    "#     loaded_model = pickle.load(open(filename, 'rb'))\n"
   ]
  },
  {
   "cell_type": "code",
   "execution_count": 136,
   "id": "d9f1ddc3",
   "metadata": {},
   "outputs": [],
   "source": [
    "hidden_layer_sizes=[(20,), \n",
    "                    (50,),\n",
    "                    (100,),\n",
    "                    (200,),\n",
    "                    (20,20,), \n",
    "                    (50,50),\n",
    "                    (100,100),\n",
    "                     ]"
   ]
  },
  {
   "cell_type": "markdown",
   "id": "c595528e",
   "metadata": {},
   "source": [
    "### Retweets"
   ]
  },
  {
   "cell_type": "code",
   "execution_count": 260,
   "id": "f6dda611",
   "metadata": {},
   "outputs": [
    {
     "name": "stdout",
     "output_type": "stream",
     "text": [
      "Best estimator for retweets: \n",
      " MLPRegressor()\n",
      "Best score for retweets:  1591.7575782977879\n",
      "Best parameters for retweets:  {'hidden_layer_sizes': (100,)}\n"
     ]
    }
   ],
   "source": [
    "clf = pickle.load(open('./retweets_gridsearch.sav', 'rb'))\n",
    "label = 'retweets'\n",
    "print(\"Best estimator for \"+label+\": \\n\", clf.best_estimator_)\n",
    "print(\"Best score for \"+label+\": \", -1*clf.best_score_)\n",
    "print(\"Best parameters for \"+label+\": \", clf.best_params_)"
   ]
  },
  {
   "cell_type": "code",
   "execution_count": 261,
   "id": "723c6272",
   "metadata": {},
   "outputs": [
    {
     "data": {
      "image/png": "[encoded data removed]",
      "text/plain": [
       "<Figure size 432x288 with 1 Axes>"
      ]
     },
     "metadata": {
      "needs_background": "light"
     },
     "output_type": "display_data"
    }
   ],
   "source": [
    "plt.figure()\n",
    "plt.plot(range(len(hidden_layer_sizes)), -1*clf.cv_results_['mean_test_score'])\n",
    "ax = plt.gca()\n",
    "plt.xticks(range(len(hidden_layer_sizes)), [str(i) for i in hidden_layer_sizes])\n",
    "plt.ylabel('Test MSE')\n",
    "plt.xlabel('Hidden Parameters')\n",
    "plt.title(label)\n",
    "plt.show()"
   ]
  },
  {
   "cell_type": "code",
   "execution_count": 269,
   "id": "53b24a7c",
   "metadata": {},
   "outputs": [
    {
     "name": "stdout",
     "output_type": "stream",
     "text": [
      "retweets ['time', 'followers', 'ranking_score', 'impressions', 'num_hashtags', 'hashtag1', 'hashtag2']\n"
     ]
    },
    {
     "name": "stderr",
     "output_type": "stream",
     "text": [
      "/usr/local/lib/python3.9/site-packages/sklearn/base.py:441: UserWarning: X does not have valid feature names, but StandardScaler was fitted with feature names\n",
      "  warnings.warn(\n"
     ]
    },
    {
     "name": "stdout",
     "output_type": "stream",
     "text": [
      "retweets nn test MSE: 690.7681096765979\n"
     ]
    }
   ],
   "source": [
    "nn = clf.best_estimator_\n",
    "\n",
    "features = training_dict[label]\n",
    "print(label, features)\n",
    "# prep data\n",
    "toTrain = ss.fit_transform(train[features])\n",
    "trainLabels = train[label]\n",
    "toTest = ss.fit_transform(test[features])\n",
    "testLabels = test[label]\n",
    "\n",
    "# train\n",
    "nn = MLPRegressor(hidden_layer_sizes= (100,))\n",
    "nn.fit(toTrain,trainLabels)\n",
    "\n",
    "# predict\n",
    "X_test = ss.fit_transform(toTest)\n",
    "y_pred = nn.predict(X_test)\n",
    "\n",
    "print(label + ' nn test MSE:', mean_squared_error(testLabels,y_pred))"
   ]
  },
  {
   "cell_type": "code",
   "execution_count": 277,
   "id": "e0ce43ce",
   "metadata": {},
   "outputs": [
    {
     "data": {
      "text/plain": [
       "Text(0.5, 1.0, 'retweets 100 nn correlation plot')"
      ]
     },
     "execution_count": 277,
     "metadata": {},
     "output_type": "execute_result"
    },
    {
     "data": {
      "image/png": "[encoded data removed]",
      "text/plain": [
       "<Figure size 432x288 with 1 Axes>"
      ]
     },
     "metadata": {
      "needs_background": "light"
     },
     "output_type": "display_data"
    }
   ],
   "source": [
    "plt.scatter(testLabels.values,y_pred)\n",
    "plt.xlabel('label')\n",
    "plt.ylabel('predicted')\n",
    "# plt.xlim(min(testLabels.values),max(testLabels.values))\n",
    "# plt.ylim(min(testLabels.values),max(testLabels.values))\n",
    "plt.title(label + ' 100 nn correlation plot')"
   ]
  },
  {
   "cell_type": "code",
   "execution_count": 278,
   "id": "1507a5f2",
   "metadata": {},
   "outputs": [
    {
     "name": "stdout",
     "output_type": "stream",
     "text": [
      "retweets ['time', 'followers', 'ranking_score', 'impressions', 'num_hashtags', 'hashtag1', 'hashtag2']\n",
      "retweets nn test MSE: 696.153928009655\n"
     ]
    },
    {
     "name": "stderr",
     "output_type": "stream",
     "text": [
      "/usr/local/lib/python3.9/site-packages/sklearn/base.py:441: UserWarning: X does not have valid feature names, but StandardScaler was fitted with feature names\n",
      "  warnings.warn(\n"
     ]
    }
   ],
   "source": [
    "features = training_dict[label]\n",
    "print(label, features)\n",
    "# prep data\n",
    "toTrain = ss.fit_transform(train[features])\n",
    "trainLabels = train[label]\n",
    "toTest = ss.fit_transform(test[features])\n",
    "testLabels = test[label]\n",
    "\n",
    "# train\n",
    "nn = MLPRegressor(hidden_layer_sizes= (10,))\n",
    "nn.fit(toTrain,trainLabels)\n",
    "\n",
    "# predict\n",
    "X_test = ss.fit_transform(toTest)\n",
    "y_pred = nn.predict(X_test)\n",
    "\n",
    "print(label + ' nn test MSE:', mean_squared_error(testLabels,y_pred))"
   ]
  },
  {
   "cell_type": "code",
   "execution_count": 279,
   "id": "90b750e7",
   "metadata": {},
   "outputs": [
    {
     "data": {
      "text/plain": [
       "Text(0.5, 1.0, 'retweets10 nn correlation plot')"
      ]
     },
     "execution_count": 279,
     "metadata": {},
     "output_type": "execute_result"
    },
    {
     "data": {
      "image/png": "[encoded data removed]",
      "text/plain": [
       "<Figure size 432x288 with 1 Axes>"
      ]
     },
     "metadata": {
      "needs_background": "light"
     },
     "output_type": "display_data"
    }
   ],
   "source": [
    "plt.scatter(testLabels.values,y_pred)\n",
    "plt.xlabel('label')\n",
    "plt.ylabel('predicted')\n",
    "# plt.xlim(min(testLabels.values),max(testLabels.values))\n",
    "# plt.ylim(min(testLabels.values),max(testLabels.values))\n",
    "plt.title(label + '10 nn correlation plot')"
   ]
  },
  {
   "cell_type": "code",
   "execution_count": 265,
   "id": "de05cde2",
   "metadata": {},
   "outputs": [
    {
     "name": "stdout",
     "output_type": "stream",
     "text": [
      "retweets linear regression test MSE: 705.6724949895731\n"
     ]
    }
   ],
   "source": [
    "from sklearn.linear_model import LinearRegression\n",
    "\n",
    "# prep data\n",
    "toTrain = ss.fit_transform(train[features])\n",
    "trainLabels = train[label]\n",
    "toTest = ss.fit_transform(test[features])\n",
    "testLabels = test[label]\n",
    "\n",
    "# train\n",
    "reg = LinearRegression().fit(toTrain, trainLabels)\n",
    "\n",
    "\n",
    "# predict\n",
    "y_pred = reg.predict(toTest)\n",
    "\n",
    "print(label + ' linear regression test MSE:', mean_squared_error(testLabels,y_pred))"
   ]
  },
  {
   "cell_type": "code",
   "execution_count": 272,
   "id": "258d9a54",
   "metadata": {},
   "outputs": [
    {
     "data": {
      "text/plain": [
       "Text(0.5, 1.0, 'retweets linear regression correlation plot')"
      ]
     },
     "execution_count": 272,
     "metadata": {},
     "output_type": "execute_result"
    },
    {
     "data": {
      "image/png": "[encoded data removed]",
      "text/plain": [
       "<Figure size 432x288 with 1 Axes>"
      ]
     },
     "metadata": {
      "needs_background": "light"
     },
     "output_type": "display_data"
    }
   ],
   "source": [
    "plt.scatter(testLabels.values,y_pred)\n",
    "plt.xlabel('label')\n",
    "plt.ylabel('predicted')\n",
    "# plt.xlim(min(testLabels.values),max(testLabels.values))\n",
    "# plt.ylim(min(testLabels.values),max(testLabels.values))\n",
    "plt.title(label + ' linear regression correlation plot')"
   ]
  },
  {
   "cell_type": "code",
   "execution_count": 273,
   "id": "cee08d0d",
   "metadata": {},
   "outputs": [
    {
     "name": "stdout",
     "output_type": "stream",
     "text": [
      "retweets ['time', 'followers', 'ranking_score', 'impressions', 'num_hashtags', 'hashtag1', 'hashtag2']\n",
      "retweets ridge regression test MSE: 705.6724507603061\n"
     ]
    }
   ],
   "source": [
    "from sklearn.linear_model import Ridge\n",
    "features = training_dict[label]\n",
    "print(label, features)\n",
    "\n",
    "# prep data\n",
    "toTrain = ss.fit_transform(train[features])\n",
    "trainLabels = train[label]\n",
    "toTest = ss.fit_transform(test[features])\n",
    "testLabels = test[label]\n",
    "\n",
    "# train\n",
    "ridge = Ridge(alpha=1.0).fit(toTrain, trainLabels)\n",
    "\n",
    "\n",
    "# predict\n",
    "y_pred = ridge.predict(toTest)\n",
    "\n",
    "print(label + ' ridge regression test MSE:', mean_squared_error(testLabels,y_pred))"
   ]
  },
  {
   "cell_type": "code",
   "execution_count": 274,
   "id": "0ec6f0dc",
   "metadata": {},
   "outputs": [
    {
     "data": {
      "text/plain": [
       "Text(0.5, 1.0, 'retweets ridge regression correlation plot')"
      ]
     },
     "execution_count": 274,
     "metadata": {},
     "output_type": "execute_result"
    },
    {
     "data": {
      "image/png": "[encoded data removed]",
      "text/plain": [
       "<Figure size 432x288 with 1 Axes>"
      ]
     },
     "metadata": {
      "needs_background": "light"
     },
     "output_type": "display_data"
    }
   ],
   "source": [
    "plt.scatter(testLabels.values,y_pred)\n",
    "plt.xlabel('label')\n",
    "plt.ylabel('predicted')\n",
    "# plt.xlim(min(testLabels.values),max(testLabels.values))\n",
    "# plt.ylim(min(testLabels.values),max(testLabels.values))\n",
    "plt.title(label + ' ridge regression correlation plot')"
   ]
  },
  {
   "cell_type": "markdown",
   "id": "11eb851b",
   "metadata": {},
   "source": [
    "### Time"
   ]
  },
  {
   "cell_type": "code",
   "execution_count": 280,
   "id": "f8f193f5",
   "metadata": {},
   "outputs": [
    {
     "name": "stdout",
     "output_type": "stream",
     "text": [
      "Best estimator for time: \n",
      " MLPRegressor(hidden_layer_sizes=(20, 20))\n",
      "Best score for time:  1243633470946.48\n",
      "Best parameters for time:  {'hidden_layer_sizes': (20, 20)}\n"
     ]
    }
   ],
   "source": [
    "clf = pickle.load(open('./time_gridsearch.sav', 'rb'))\n",
    "label = 'time'\n",
    "print(\"Best estimator for \"+label+\": \\n\", clf.best_estimator_)\n",
    "print(\"Best score for \"+label+\": \", -1*clf.best_score_)\n",
    "print(\"Best parameters for \"+label+\": \", clf.best_params_)"
   ]
  },
  {
   "cell_type": "code",
   "execution_count": 281,
   "id": "d2cbb55f",
   "metadata": {},
   "outputs": [
    {
     "data": {
      "image/png": "[encoded data removed]",
      "text/plain": [
       "<Figure size 432x288 with 1 Axes>"
      ]
     },
     "metadata": {
      "needs_background": "light"
     },
     "output_type": "display_data"
    }
   ],
   "source": [
    "plt.figure()\n",
    "plt.plot(range(len(hidden_layer_sizes)), -1*clf.cv_results_['mean_test_score'])\n",
    "ax = plt.gca()\n",
    "plt.xticks(range(len(hidden_layer_sizes)), [str(i) for i in hidden_layer_sizes])\n",
    "plt.ylabel('Test MSE')\n",
    "plt.xlabel('Hidden Parameters')\n",
    "plt.title(label)\n",
    "plt.show()"
   ]
  },
  {
   "cell_type": "code",
   "execution_count": 290,
   "id": "e0171a52",
   "metadata": {},
   "outputs": [
    {
     "name": "stdout",
     "output_type": "stream",
     "text": [
      "time ['retweets', 'followers', 'ranking_score', 'impressions', 'num_hashtags', 'hashtag1', 'hashtag2']\n"
     ]
    },
    {
     "name": "stderr",
     "output_type": "stream",
     "text": [
      "/usr/local/lib/python3.9/site-packages/sklearn/neural_network/_multilayer_perceptron.py:692: ConvergenceWarning: Stochastic Optimizer: Maximum iterations (200) reached and the optimization hasn't converged yet.\n",
      "  warnings.warn(\n"
     ]
    },
    {
     "data": {
      "text/plain": [
       "MLPRegressor(hidden_layer_sizes=(20, 20))"
      ]
     },
     "execution_count": 290,
     "metadata": {},
     "output_type": "execute_result"
    }
   ],
   "source": [
    "nn = clf.best_estimator_\n",
    "features = training_dict[label]\n",
    "print(label, features)\n",
    "\n",
    "# prep data\n",
    "toTrain = ss.fit_transform(train[features])\n",
    "trainLabels = train[label]\n",
    "toTest = ss.fit_transform(test[features])\n",
    "testLabels = test[label]\n",
    "\n",
    "# train\n",
    "nn = MLPRegressor(hidden_layer_sizes= (20, 20))\n",
    "nn.fit(toTrain,trainLabels)"
   ]
  },
  {
   "cell_type": "code",
   "execution_count": 291,
   "id": "12209c38",
   "metadata": {},
   "outputs": [
    {
     "name": "stderr",
     "output_type": "stream",
     "text": [
      "/usr/local/lib/python3.9/site-packages/sklearn/base.py:441: UserWarning: X does not have valid feature names, but StandardScaler was fitted with feature names\n",
      "  warnings.warn(\n"
     ]
    },
    {
     "name": "stdout",
     "output_type": "stream",
     "text": [
      "time (20,20) nn test MSE: 74557116956.07092\n"
     ]
    }
   ],
   "source": [
    "# predict\n",
    "X_test = ss.fit_transform(toTest)\n",
    "y_pred = nn.predict(X_test)\n",
    "\n",
    "print(label + ' (20,20) nn test MSE:', mean_squared_error(testLabels,y_pred))"
   ]
  },
  {
   "cell_type": "code",
   "execution_count": 292,
   "id": "de5b290b",
   "metadata": {},
   "outputs": [
    {
     "data": {
      "text/plain": [
       "Text(0.5, 1.0, 'time (20,20) nn correlation plot')"
      ]
     },
     "execution_count": 292,
     "metadata": {},
     "output_type": "execute_result"
    },
    {
     "data": {
      "image/png": "[encoded data removed]",
      "text/plain": [
       "<Figure size 432x288 with 1 Axes>"
      ]
     },
     "metadata": {
      "needs_background": "light"
     },
     "output_type": "display_data"
    }
   ],
   "source": [
    "plt.scatter(testLabels.values,y_pred)\n",
    "plt.xlabel('label')\n",
    "plt.ylabel('predicted')\n",
    "plt.xlim(min(testLabels.values),max(testLabels.values))\n",
    "plt.ylim(min(testLabels.values),max(testLabels.values))\n",
    "plt.title(label + ' (20,20) nn correlation plot')"
   ]
  },
  {
   "cell_type": "code",
   "execution_count": 293,
   "id": "7bd334c3",
   "metadata": {},
   "outputs": [
    {
     "name": "stdout",
     "output_type": "stream",
     "text": [
      "time ['retweets', 'followers', 'ranking_score', 'impressions', 'num_hashtags', 'hashtag1', 'hashtag2']\n"
     ]
    },
    {
     "name": "stderr",
     "output_type": "stream",
     "text": [
      "/usr/local/lib/python3.9/site-packages/sklearn/neural_network/_multilayer_perceptron.py:692: ConvergenceWarning: Stochastic Optimizer: Maximum iterations (200) reached and the optimization hasn't converged yet.\n",
      "  warnings.warn(\n"
     ]
    },
    {
     "data": {
      "text/plain": [
       "MLPRegressor(hidden_layer_sizes=(10,))"
      ]
     },
     "execution_count": 293,
     "metadata": {},
     "output_type": "execute_result"
    }
   ],
   "source": [
    "features = training_dict[label]\n",
    "print(label, features)\n",
    "\n",
    "# prep data\n",
    "toTrain = ss.fit_transform(train[features])\n",
    "trainLabels = train[label]\n",
    "toTest = ss.fit_transform(test[features])\n",
    "testLabels = test[label]\n",
    "\n",
    "# train\n",
    "nn = MLPRegressor(hidden_layer_sizes= (10,))\n",
    "nn.fit(toTrain,trainLabels)"
   ]
  },
  {
   "cell_type": "code",
   "execution_count": 297,
   "id": "597db24d",
   "metadata": {},
   "outputs": [
    {
     "name": "stdout",
     "output_type": "stream",
     "text": [
      "time 10 nn test MSE: 1.9872063718381125e+18\n"
     ]
    }
   ],
   "source": [
    "# predict\n",
    "X_test = toTest\n",
    "y_pred = nn.predict(X_test)\n",
    "\n",
    "print(label + ' 10 nn test MSE:', mean_squared_error(testLabels,y_pred))"
   ]
  },
  {
   "cell_type": "code",
   "execution_count": 298,
   "id": "a2f5dc7d",
   "metadata": {},
   "outputs": [
    {
     "data": {
      "text/plain": [
       "Text(0.5, 1.0, 'time (10) nn correlation plot')"
      ]
     },
     "execution_count": 298,
     "metadata": {},
     "output_type": "execute_result"
    },
    {
     "data": {
      "image/png": "[encoded data removed]",
      "text/plain": [
       "<Figure size 432x288 with 1 Axes>"
      ]
     },
     "metadata": {
      "needs_background": "light"
     },
     "output_type": "display_data"
    }
   ],
   "source": [
    "plt.scatter(testLabels.values,y_pred)\n",
    "plt.xlabel('label')\n",
    "plt.ylabel('predicted')\n",
    "# plt.xlim(min(testLabels.values),max(testLabels.values))\n",
    "# plt.ylim(min(testLabels.values),max(testLabels.values))\n",
    "plt.title(label + ' (10) nn correlation plot')"
   ]
  },
  {
   "cell_type": "code",
   "execution_count": 256,
   "id": "b3f45292",
   "metadata": {},
   "outputs": [
    {
     "name": "stdout",
     "output_type": "stream",
     "text": [
      "time linear regression test MSE: 74066028120.02184\n"
     ]
    }
   ],
   "source": [
    "from sklearn.linear_model import LinearRegression\n",
    "\n",
    "# prep data\n",
    "toTrain = ss.fit_transform(train[features])\n",
    "trainLabels = train[label]\n",
    "toTest = ss.fit_transform(test[features])\n",
    "testLabels = test[label]\n",
    "\n",
    "# train\n",
    "reg = LinearRegression().fit(toTrain, trainLabels)\n",
    "\n",
    "# predict\n",
    "y_pred = reg.predict(toTest)\n",
    "\n",
    "print(label + ' linear regression test MSE:', mean_squared_error(testLabels,y_pred))"
   ]
  },
  {
   "cell_type": "code",
   "execution_count": 257,
   "id": "14b42683",
   "metadata": {},
   "outputs": [
    {
     "data": {
      "text/plain": [
       "Text(0.5, 1.0, 'time linear regression correlation plot')"
      ]
     },
     "execution_count": 257,
     "metadata": {},
     "output_type": "execute_result"
    },
    {
     "data": {
      "image/png": "[encoded data removed]",
      "text/plain": [
       "<Figure size 432x288 with 1 Axes>"
      ]
     },
     "metadata": {
      "needs_background": "light"
     },
     "output_type": "display_data"
    }
   ],
   "source": [
    "plt.scatter(testLabels.values,y_pred)\n",
    "plt.xlabel('label')\n",
    "plt.ylabel('predicted')\n",
    "plt.xlim(min(testLabels.values),max(testLabels.values))\n",
    "plt.ylim(min(testLabels.values),max(testLabels.values))\n",
    "plt.title(label + ' linear regression correlation plot')"
   ]
  },
  {
   "cell_type": "code",
   "execution_count": 258,
   "id": "8ef46f2d",
   "metadata": {},
   "outputs": [
    {
     "name": "stdout",
     "output_type": "stream",
     "text": [
      "time ['retweets', 'followers', 'ranking_score', 'impressions', 'num_hashtags', 'hashtag1', 'hashtag2']\n",
      "time ridge regression test MSE: 74066026580.47653\n"
     ]
    }
   ],
   "source": [
    "from sklearn.linear_model import Ridge\n",
    "features = training_dict[label]\n",
    "print(label, features)\n",
    "\n",
    "# prep data\n",
    "toTrain = ss.fit_transform(train[features])\n",
    "trainLabels = train[label]\n",
    "toTest = ss.fit_transform(test[features])\n",
    "testLabels = test[label]\n",
    "\n",
    "# train\n",
    "ridge = Ridge(alpha=1.0).fit(toTrain, trainLabels)\n",
    "\n",
    "\n",
    "# predict\n",
    "y_pred = ridge.predict(toTest)\n",
    "\n",
    "print(label + ' ridge regression test MSE:', mean_squared_error(testLabels,y_pred))"
   ]
  },
  {
   "cell_type": "code",
   "execution_count": 259,
   "id": "10a8b542",
   "metadata": {},
   "outputs": [
    {
     "data": {
      "text/plain": [
       "Text(0.5, 1.0, 'time ridge regression correlation plot')"
      ]
     },
     "execution_count": 259,
     "metadata": {},
     "output_type": "execute_result"
    },
    {
     "data": {
      "image/png": "[encoded data removed]",
      "text/plain": [
       "<Figure size 432x288 with 1 Axes>"
      ]
     },
     "metadata": {
      "needs_background": "light"
     },
     "output_type": "display_data"
    }
   ],
   "source": [
    "plt.scatter(testLabels.values,y_pred)\n",
    "plt.xlabel('label')\n",
    "plt.ylabel('predicted')\n",
    "plt.xlim(min(testLabels.values),max(testLabels.values))\n",
    "plt.ylim(min(testLabels.values),max(testLabels.values))\n",
    "plt.title(label + ' ridge regression correlation plot')"
   ]
  },
  {
   "cell_type": "code",
   "execution_count": 120,
   "id": "3817d56a",
   "metadata": {},
   "outputs": [
    {
     "name": "stdout",
     "output_type": "stream",
     "text": [
      "<class 'numpy.ndarray'> (971050, 7) <class 'numpy.ndarray'> (971050,)\n"
     ]
    }
   ],
   "source": [
    "X = ss.fit_transform(toTrain)\n",
    "y = trainLabels.values\n",
    "print(type(X),X.shape,type(y),y.shape)\n"
   ]
  },
  {
   "cell_type": "code",
   "execution_count": 121,
   "id": "cc4ad3b1",
   "metadata": {},
   "outputs": [
    {
     "data": {
      "text/plain": [
       "[(20,), (20, 20), (50,), (50, 50), (100,)]"
      ]
     },
     "execution_count": 121,
     "metadata": {},
     "output_type": "execute_result"
    }
   ],
   "source": [
    "hidden_layer_sizes"
   ]
  },
  {
   "cell_type": "code",
   "execution_count": 119,
   "id": "37fc6ee2",
   "metadata": {},
   "outputs": [
    {
     "data": {
      "text/plain": [
       "(array([[ 0.27871763, -0.05640278, -0.25068555, ..., -0.08462103,\n",
       "         -0.68858353, -0.62392309],\n",
       "        [ 0.30601724, -0.05562076, -0.32987374, ..., -0.75583963,\n",
       "         -0.75173612, -0.78688565],\n",
       "        [ 0.29232393, -0.05611195, -0.32651218, ..., -0.75583963,\n",
       "         -0.86901952, -0.89281132],\n",
       "        ...,\n",
       "        [-0.43373684, -0.05498739, -0.33644705, ..., -0.08462103,\n",
       "          0.29479263,  0.20718597],\n",
       "        [ 0.28097628, -0.0559116 , -0.33143956, ...,  0.58659757,\n",
       "         -0.15629735, -0.02096161],\n",
       "        [-0.55629866,  0.07206168, -0.36251827, ..., -0.08462103,\n",
       "         -0.62543093, -0.58318245]]),\n",
       " array([1, 1, 1, ..., 1, 1, 1]))"
      ]
     },
     "execution_count": 119,
     "metadata": {},
     "output_type": "execute_result"
    }
   ],
   "source": [
    "nn = MLPRegressor(hidden_layer_sizes=hidden_layer_sizes)\n",
    "nn.fit(X,y)"
   ]
  },
  {
   "cell_type": "code",
   "execution_count": 123,
   "id": "80f876bb",
   "metadata": {},
   "outputs": [
    {
     "name": "stdout",
     "output_type": "stream",
     "text": [
      "(20,) test MSE: 700.7955871439865\n",
      "(50,) test MSE: 691.9274386872385\n",
      "(100,) test MSE: 701.6490860158946\n",
      "(200,) test MSE: 697.6134444324123\n",
      "(20, 20) test MSE: 688.0304296388126\n",
      "(50, 50) test MSE: 686.8464051325377\n",
      "(100, 100) test MSE: 686.074740891023\n"
     ]
    },
    {
     "name": "stderr",
     "output_type": "stream",
     "text": [
      "/usr/local/lib/python3.9/site-packages/sklearn/neural_network/_multilayer_perceptron.py:699: UserWarning: Training interrupted by user.\n",
      "  warnings.warn(\"Training interrupted by user.\")\n"
     ]
    },
    {
     "ename": "KeyboardInterrupt",
     "evalue": "",
     "output_type": "error",
     "traceback": [
      "\u001b[0;31m---------------------------------------------------------------------------\u001b[0m",
      "\u001b[0;31mKeyboardInterrupt\u001b[0m                         Traceback (most recent call last)",
      "\u001b[0;32m/var/folders/zz/vkm24chs4xd_mnmr6c68qmz80000gn/T/ipykernel_84916/2587565496.py\u001b[0m in \u001b[0;36m<module>\u001b[0;34m\u001b[0m\n\u001b[1;32m     16\u001b[0m     \u001b[0mnn\u001b[0m \u001b[0;34m=\u001b[0m \u001b[0mMLPRegressor\u001b[0m\u001b[0;34m(\u001b[0m\u001b[0mhidden_layer_sizes\u001b[0m\u001b[0;34m=\u001b[0m\u001b[0msize\u001b[0m\u001b[0;34m)\u001b[0m\u001b[0;34m\u001b[0m\u001b[0;34m\u001b[0m\u001b[0m\n\u001b[1;32m     17\u001b[0m     \u001b[0mnn\u001b[0m\u001b[0;34m.\u001b[0m\u001b[0mfit\u001b[0m\u001b[0;34m(\u001b[0m\u001b[0mX\u001b[0m\u001b[0;34m,\u001b[0m\u001b[0mtrainLabels\u001b[0m\u001b[0;34m.\u001b[0m\u001b[0mvalues\u001b[0m\u001b[0;34m)\u001b[0m\u001b[0;34m\u001b[0m\u001b[0;34m\u001b[0m\u001b[0m\n\u001b[0;32m---> 18\u001b[0;31m     \u001b[0my_pred\u001b[0m \u001b[0;34m=\u001b[0m \u001b[0mnn\u001b[0m\u001b[0;34m.\u001b[0m\u001b[0mpredict\u001b[0m\u001b[0;34m(\u001b[0m\u001b[0mX_test\u001b[0m\u001b[0;34m)\u001b[0m\u001b[0;34m\u001b[0m\u001b[0;34m\u001b[0m\u001b[0m\n\u001b[0m\u001b[1;32m     19\u001b[0m     \u001b[0mprint\u001b[0m\u001b[0;34m(\u001b[0m\u001b[0msize\u001b[0m\u001b[0;34m,\u001b[0m\u001b[0;34m'test MSE:'\u001b[0m\u001b[0;34m,\u001b[0m \u001b[0mmean_squared_error\u001b[0m\u001b[0;34m(\u001b[0m\u001b[0mtestLabels\u001b[0m\u001b[0;34m,\u001b[0m\u001b[0my_pred\u001b[0m\u001b[0;34m)\u001b[0m\u001b[0;34m)\u001b[0m\u001b[0;34m\u001b[0m\u001b[0;34m\u001b[0m\u001b[0m\n",
      "\u001b[0;32m/usr/local/lib/python3.9/site-packages/sklearn/neural_network/_multilayer_perceptron.py\u001b[0m in \u001b[0;36mpredict\u001b[0;34m(self, X)\u001b[0m\n\u001b[1;32m   1581\u001b[0m         \"\"\"\n\u001b[1;32m   1582\u001b[0m         \u001b[0mcheck_is_fitted\u001b[0m\u001b[0;34m(\u001b[0m\u001b[0mself\u001b[0m\u001b[0;34m)\u001b[0m\u001b[0;34m\u001b[0m\u001b[0;34m\u001b[0m\u001b[0m\n\u001b[0;32m-> 1583\u001b[0;31m         \u001b[0my_pred\u001b[0m \u001b[0;34m=\u001b[0m \u001b[0mself\u001b[0m\u001b[0;34m.\u001b[0m\u001b[0m_forward_pass_fast\u001b[0m\u001b[0;34m(\u001b[0m\u001b[0mX\u001b[0m\u001b[0;34m)\u001b[0m\u001b[0;34m\u001b[0m\u001b[0;34m\u001b[0m\u001b[0m\n\u001b[0m\u001b[1;32m   1584\u001b[0m         \u001b[0;32mif\u001b[0m \u001b[0my_pred\u001b[0m\u001b[0;34m.\u001b[0m\u001b[0mshape\u001b[0m\u001b[0;34m[\u001b[0m\u001b[0;36m1\u001b[0m\u001b[0;34m]\u001b[0m \u001b[0;34m==\u001b[0m \u001b[0;36m1\u001b[0m\u001b[0;34m:\u001b[0m\u001b[0;34m\u001b[0m\u001b[0;34m\u001b[0m\u001b[0m\n\u001b[1;32m   1585\u001b[0m             \u001b[0;32mreturn\u001b[0m \u001b[0my_pred\u001b[0m\u001b[0;34m.\u001b[0m\u001b[0mravel\u001b[0m\u001b[0;34m(\u001b[0m\u001b[0;34m)\u001b[0m\u001b[0;34m\u001b[0m\u001b[0;34m\u001b[0m\u001b[0m\n",
      "\u001b[0;32m/usr/local/lib/python3.9/site-packages/sklearn/neural_network/_multilayer_perceptron.py\u001b[0m in \u001b[0;36m_forward_pass_fast\u001b[0;34m(self, X)\u001b[0m\n\u001b[1;32m    165\u001b[0m         \u001b[0mhidden_activation\u001b[0m \u001b[0;34m=\u001b[0m \u001b[0mACTIVATIONS\u001b[0m\u001b[0;34m[\u001b[0m\u001b[0mself\u001b[0m\u001b[0;34m.\u001b[0m\u001b[0mactivation\u001b[0m\u001b[0;34m]\u001b[0m\u001b[0;34m\u001b[0m\u001b[0;34m\u001b[0m\u001b[0m\n\u001b[1;32m    166\u001b[0m         \u001b[0;32mfor\u001b[0m \u001b[0mi\u001b[0m \u001b[0;32min\u001b[0m \u001b[0mrange\u001b[0m\u001b[0;34m(\u001b[0m\u001b[0mself\u001b[0m\u001b[0;34m.\u001b[0m\u001b[0mn_layers_\u001b[0m \u001b[0;34m-\u001b[0m \u001b[0;36m1\u001b[0m\u001b[0;34m)\u001b[0m\u001b[0;34m:\u001b[0m\u001b[0;34m\u001b[0m\u001b[0;34m\u001b[0m\u001b[0m\n\u001b[0;32m--> 167\u001b[0;31m             \u001b[0mactivation\u001b[0m \u001b[0;34m=\u001b[0m \u001b[0msafe_sparse_dot\u001b[0m\u001b[0;34m(\u001b[0m\u001b[0mactivation\u001b[0m\u001b[0;34m,\u001b[0m \u001b[0mself\u001b[0m\u001b[0;34m.\u001b[0m\u001b[0mcoefs_\u001b[0m\u001b[0;34m[\u001b[0m\u001b[0mi\u001b[0m\u001b[0;34m]\u001b[0m\u001b[0;34m)\u001b[0m\u001b[0;34m\u001b[0m\u001b[0;34m\u001b[0m\u001b[0m\n\u001b[0m\u001b[1;32m    168\u001b[0m             \u001b[0mactivation\u001b[0m \u001b[0;34m+=\u001b[0m \u001b[0mself\u001b[0m\u001b[0;34m.\u001b[0m\u001b[0mintercepts_\u001b[0m\u001b[0;34m[\u001b[0m\u001b[0mi\u001b[0m\u001b[0;34m]\u001b[0m\u001b[0;34m\u001b[0m\u001b[0;34m\u001b[0m\u001b[0m\n\u001b[1;32m    169\u001b[0m             \u001b[0;32mif\u001b[0m \u001b[0mi\u001b[0m \u001b[0;34m!=\u001b[0m \u001b[0mself\u001b[0m\u001b[0;34m.\u001b[0m\u001b[0mn_layers_\u001b[0m \u001b[0;34m-\u001b[0m \u001b[0;36m2\u001b[0m\u001b[0;34m:\u001b[0m\u001b[0;34m\u001b[0m\u001b[0;34m\u001b[0m\u001b[0m\n",
      "\u001b[0;32m/usr/local/lib/python3.9/site-packages/sklearn/utils/extmath.py\u001b[0m in \u001b[0;36msafe_sparse_dot\u001b[0;34m(a, b, dense_output)\u001b[0m\n\u001b[1;32m    151\u001b[0m             \u001b[0mret\u001b[0m \u001b[0;34m=\u001b[0m \u001b[0mnp\u001b[0m\u001b[0;34m.\u001b[0m\u001b[0mdot\u001b[0m\u001b[0;34m(\u001b[0m\u001b[0ma\u001b[0m\u001b[0;34m,\u001b[0m \u001b[0mb\u001b[0m\u001b[0;34m)\u001b[0m\u001b[0;34m\u001b[0m\u001b[0;34m\u001b[0m\u001b[0m\n\u001b[1;32m    152\u001b[0m     \u001b[0;32melse\u001b[0m\u001b[0;34m:\u001b[0m\u001b[0;34m\u001b[0m\u001b[0;34m\u001b[0m\u001b[0m\n\u001b[0;32m--> 153\u001b[0;31m         \u001b[0mret\u001b[0m \u001b[0;34m=\u001b[0m \u001b[0ma\u001b[0m \u001b[0;34m@\u001b[0m \u001b[0mb\u001b[0m\u001b[0;34m\u001b[0m\u001b[0;34m\u001b[0m\u001b[0m\n\u001b[0m\u001b[1;32m    154\u001b[0m \u001b[0;34m\u001b[0m\u001b[0m\n\u001b[1;32m    155\u001b[0m     if (\n",
      "\u001b[0;31mKeyboardInterrupt\u001b[0m: "
     ]
    }
   ],
   "source": [
    "ss = StandardScaler()\n",
    "X = ss.fit_transform(toTrain)\n",
    "X_test = ss.fit_transform(toTest)\n",
    "y_pred = nn.predict(X_test)\n",
    "hidden_layer_sizes = [(20,), \n",
    "                    (50,),\n",
    "                    (100,),\n",
    "                    (200,),\n",
    "                    (20,20,), \n",
    "                    (50,50),\n",
    "                    (100,100),\n",
    "                    (200,200),\n",
    "                     ]\n",
    "\n",
    "for size in hidden_layer_sizes:\n",
    "    nn = MLPRegressor(hidden_layer_sizes=size)\n",
    "    nn.fit(X,trainLabels.values)\n",
    "    y_pred = nn.predict(X_test)\n",
    "    print(size,'test MSE:', mean_squared_error(testLabels,y_pred))"
   ]
  },
  {
   "cell_type": "code",
   "execution_count": null,
   "id": "d110d531",
   "metadata": {},
   "outputs": [],
   "source": [
    "# save the model to disk\n",
    "filename = 'finalized_model.sav'\n",
    "pickle.dump(model, open(filename, 'wb'))\n",
    " \n",
    "# some time later...\n",
    " \n",
    "# load the model from disk\n",
    "loaded_model = pickle.load(open(filename, 'rb'))"
   ]
  },
  {
   "cell_type": "code",
   "execution_count": 94,
   "id": "81efc2e4",
   "metadata": {},
   "outputs": [
    {
     "data": {
      "image/png": "[encoded data removed]",
      "text/plain": [
       "<Figure size 432x288 with 1 Axes>"
      ]
     },
     "metadata": {
      "needs_background": "light"
     },
     "output_type": "display_data"
    }
   ],
   "source": [
    "#%%\n",
    "\n",
    "import matplotlib.pyplot as plt\n",
    "plt.figure()\n",
    "plt.plot(-1*clf.cv_results_['mean_test_score'])\n",
    "plt.xlabel(\"Combination number\"); plt.ylabel('Test MSE'); plt.title('Neural Network')\n",
    "plt.show()"
   ]
  },
  {
   "cell_type": "code",
   "execution_count": 95,
   "id": "8bff09b3",
   "metadata": {},
   "outputs": [
    {
     "name": "stdout",
     "output_type": "stream",
     "text": [
      "689.6481911955568\n"
     ]
    }
   ],
   "source": [
    "from sklearn.metrics import mean_squared_error\n",
    "test_pred = clf.best_estimator_.predict(ss.fit_transform(toTest))\n",
    "print(mean_squared_error(testLabels,test_pred))"
   ]
  },
  {
   "cell_type": "code",
   "execution_count": 44,
   "id": "436cca00",
   "metadata": {
    "id": "436cca00"
   },
   "outputs": [
    {
     "ename": "KeyboardInterrupt",
     "evalue": "",
     "output_type": "error",
     "traceback": [
      "\u001b[0;31m---------------------------------------------------------------------------\u001b[0m",
      "\u001b[0;31mKeyboardInterrupt\u001b[0m                         Traceback (most recent call last)",
      "\u001b[0;32m/var/folders/zz/vkm24chs4xd_mnmr6c68qmz80000gn/T/ipykernel_48001/293113197.py\u001b[0m in \u001b[0;36m<module>\u001b[0;34m\u001b[0m\n\u001b[1;32m      2\u001b[0m \u001b[0;32mfor\u001b[0m \u001b[0mfname\u001b[0m \u001b[0;32min\u001b[0m \u001b[0;34m[\u001b[0m\u001b[0;34m'tweets_#superbowl.txt'\u001b[0m\u001b[0;34m]\u001b[0m\u001b[0;34m:\u001b[0m\u001b[0;34m\u001b[0m\u001b[0;34m\u001b[0m\u001b[0m\n\u001b[1;32m      3\u001b[0m     \u001b[0mname\u001b[0m  \u001b[0;34m=\u001b[0m \u001b[0mfname\u001b[0m\u001b[0;34m[\u001b[0m\u001b[0;36m7\u001b[0m\u001b[0;34m:\u001b[0m\u001b[0;34m-\u001b[0m\u001b[0;36m4\u001b[0m\u001b[0;34m]\u001b[0m\u001b[0;34m\u001b[0m\u001b[0;34m\u001b[0m\u001b[0m\n\u001b[0;32m----> 4\u001b[0;31m     \u001b[0mfile\u001b[0m \u001b[0;34m=\u001b[0m \u001b[0;34m[\u001b[0m\u001b[0;34m]\u001b[0m\u001b[0;34m\u001b[0m\u001b[0;34m\u001b[0m\u001b[0m\n\u001b[0m\u001b[1;32m      5\u001b[0m     \u001b[0;32mwith\u001b[0m \u001b[0mopen\u001b[0m\u001b[0;34m(\u001b[0m\u001b[0mos\u001b[0m\u001b[0;34m.\u001b[0m\u001b[0mpath\u001b[0m\u001b[0;34m.\u001b[0m\u001b[0mjoin\u001b[0m\u001b[0;34m(\u001b[0m\u001b[0mdata_path\u001b[0m\u001b[0;34m,\u001b[0m\u001b[0mfname\u001b[0m\u001b[0;34m)\u001b[0m\u001b[0;34m,\u001b[0m\u001b[0mencoding\u001b[0m\u001b[0;34m=\u001b[0m\u001b[0;34m\"utf8\"\u001b[0m\u001b[0;34m)\u001b[0m \u001b[0;32mas\u001b[0m \u001b[0mf\u001b[0m\u001b[0;34m:\u001b[0m\u001b[0;34m\u001b[0m\u001b[0;34m\u001b[0m\u001b[0m\n\u001b[1;32m      6\u001b[0m         \u001b[0;32mfor\u001b[0m \u001b[0mline\u001b[0m \u001b[0;32min\u001b[0m \u001b[0mf\u001b[0m\u001b[0;34m:\u001b[0m\u001b[0;34m\u001b[0m\u001b[0;34m\u001b[0m\u001b[0m\n",
      "\u001b[0;31mKeyboardInterrupt\u001b[0m: "
     ]
    }
   ],
   "source": [
    "dictionary_list = []\n",
    "for fname in ['tweets_#superbowl.txt']:\n",
    "    name  = fname[7:-4]\n",
    "    file = []\n",
    "    with open(os.path.join(data_path,fname),encoding=\"utf8\") as f:\n",
    "        for line in f:\n",
    "            file.append(line)\n",
    "    print(name)\n",
    "    for line in file:\n",
    "        tweet = json.loads(line)\n",
    "        hashtags = tweet['tweet']['entities']['hashtags']\n",
    "        hashtag1 = sum([hashtag['indices'][0] for hashtag in hashtags])\n",
    "        hashtag2 = sum([hashtag['indices'][1] for hashtag in hashtags])\n",
    "        url = tweet['url']\n",
    "        # retrieve tweet metrics\n",
    "        time = tweet['citation_date']\n",
    "        followers = tweet['author']['followers']\n",
    "        retweets = tweet['metrics']['citations']['total']\n",
    "        ranking_score =  tweet['metrics']['ranking_score']\n",
    "        impressions =  tweet['metrics']['impressions']\n",
    "        tweet_text = tweet['tweet']['text']\n",
    "        dictionary_data = {'time':time, 'followers':followers,'retweets':retweets, 'ranking_score':ranking_score,'impressions':impressions,'num_hashtags':len(hashtags), 'hashtag1':hashtag1, 'hashtag2':hashtag2, 'tweet_text':tweet_text, 'url':url}\n",
    "        dictionary_list.append(dictionary_data)\n",
    "        if len(dictionary_list) % 100000 ==0:\n",
    "            print(len(dictionary_list))"
   ]
  },
  {
   "cell_type": "code",
   "execution_count": 37,
   "id": "73bd5b12",
   "metadata": {},
   "outputs": [
    {
     "data": {
      "text/html": [
       "<div>\n",
       "<style scoped>\n",
       "    .dataframe tbody tr th:only-of-type {\n",
       "        vertical-align: middle;\n",
       "    }\n",
       "\n",
       "    .dataframe tbody tr th {\n",
       "        vertical-align: top;\n",
       "    }\n",
       "\n",
       "    .dataframe thead th {\n",
       "        text-align: right;\n",
       "    }\n",
       "</style>\n",
       "<table border=\"1\" class=\"dataframe\">\n",
       "  <thead>\n",
       "    <tr style=\"text-align: right;\">\n",
       "      <th></th>\n",
       "      <th>time</th>\n",
       "      <th>followers</th>\n",
       "      <th>retweets</th>\n",
       "      <th>ranking_score</th>\n",
       "      <th>impressions</th>\n",
       "      <th>num_hashtags</th>\n",
       "      <th>hashtag1</th>\n",
       "      <th>hashtag2</th>\n",
       "      <th>tweet_text</th>\n",
       "      <th>url</th>\n",
       "    </tr>\n",
       "  </thead>\n",
       "  <tbody>\n",
       "    <tr>\n",
       "      <th>0</th>\n",
       "      <td>1421468497</td>\n",
       "      <td>22.0</td>\n",
       "      <td>2</td>\n",
       "      <td>3.229207</td>\n",
       "      <td>5</td>\n",
       "      <td>7</td>\n",
       "      <td>466.0</td>\n",
       "      <td>537.0</td>\n",
       "      <td>At http://t.co/Vd0RWOeAed -- #Seahawks #12thMA...</td>\n",
       "      <td>http://twitter.com/HawksNationYes/status/54965...</td>\n",
       "    </tr>\n",
       "    <tr>\n",
       "      <th>1</th>\n",
       "      <td>1421467579</td>\n",
       "      <td>22.0</td>\n",
       "      <td>15</td>\n",
       "      <td>4.033474</td>\n",
       "      <td>4</td>\n",
       "      <td>6</td>\n",
       "      <td>317.0</td>\n",
       "      <td>374.0</td>\n",
       "      <td>You been 12ed pass it on #SeahawkNation #LOB #...</td>\n",
       "      <td>http://twitter.com/brygarza/status/55158539355...</td>\n",
       "    </tr>\n",
       "    <tr>\n",
       "      <th>2</th>\n",
       "      <td>1421266957</td>\n",
       "      <td>858.0</td>\n",
       "      <td>2</td>\n",
       "      <td>6.944451</td>\n",
       "      <td>833</td>\n",
       "      <td>5</td>\n",
       "      <td>254.0</td>\n",
       "      <td>301.0</td>\n",
       "      <td>27 days to the SuperBowl 🏈🏈\\n#Katyperry #KatyC...</td>\n",
       "      <td>http://twitter.com/gatinhodakaty02/status/5516...</td>\n",
       "    </tr>\n",
       "    <tr>\n",
       "      <th>3</th>\n",
       "      <td>1421261298</td>\n",
       "      <td>14335.0</td>\n",
       "      <td>2</td>\n",
       "      <td>6.660640</td>\n",
       "      <td>13943</td>\n",
       "      <td>4</td>\n",
       "      <td>247.0</td>\n",
       "      <td>306.0</td>\n",
       "      <td>Check out the cool event that  #budlight has p...</td>\n",
       "      <td>http://twitter.com/BlinkEventsDSM/status/55292...</td>\n",
       "    </tr>\n",
       "    <tr>\n",
       "      <th>4</th>\n",
       "      <td>1421316031</td>\n",
       "      <td>1143.0</td>\n",
       "      <td>7</td>\n",
       "      <td>3.856183</td>\n",
       "      <td>1101</td>\n",
       "      <td>2</td>\n",
       "      <td>102.0</td>\n",
       "      <td>121.0</td>\n",
       "      <td>Lenny Kravitz acompañará a Katy Perry en el #H...</td>\n",
       "      <td>http://twitter.com/KatyCat_Prism_/status/55433...</td>\n",
       "    </tr>\n",
       "    <tr>\n",
       "      <th>...</th>\n",
       "      <td>...</td>\n",
       "      <td>...</td>\n",
       "      <td>...</td>\n",
       "      <td>...</td>\n",
       "      <td>...</td>\n",
       "      <td>...</td>\n",
       "      <td>...</td>\n",
       "      <td>...</td>\n",
       "      <td>...</td>\n",
       "      <td>...</td>\n",
       "    </tr>\n",
       "    <tr>\n",
       "      <th>1213808</th>\n",
       "      <td>1423328580</td>\n",
       "      <td>297.0</td>\n",
       "      <td>1</td>\n",
       "      <td>3.799734</td>\n",
       "      <td>256</td>\n",
       "      <td>3</td>\n",
       "      <td>337.0</td>\n",
       "      <td>360.0</td>\n",
       "      <td>Look at this crazy map of all the private jets...</td>\n",
       "      <td>http://twitter.com/SunTimesPHX/status/56410707...</td>\n",
       "    </tr>\n",
       "    <tr>\n",
       "      <th>1213809</th>\n",
       "      <td>1423330066</td>\n",
       "      <td>1759.0</td>\n",
       "      <td>1</td>\n",
       "      <td>4.025752</td>\n",
       "      <td>923</td>\n",
       "      <td>3</td>\n",
       "      <td>292.0</td>\n",
       "      <td>328.0</td>\n",
       "      <td>Where to start making money online for beginne...</td>\n",
       "      <td>http://twitter.com/Jane_Michaels98/status/5641...</td>\n",
       "    </tr>\n",
       "    <tr>\n",
       "      <th>1213810</th>\n",
       "      <td>1423330744</td>\n",
       "      <td>69827.0</td>\n",
       "      <td>5</td>\n",
       "      <td>5.163357</td>\n",
       "      <td>78371</td>\n",
       "      <td>7</td>\n",
       "      <td>395.0</td>\n",
       "      <td>456.0</td>\n",
       "      <td>Still in superbowl mode 🏈🏈🏈\\n#SB49 #superbowl ...</td>\n",
       "      <td>http://twitter.com/IrynaIvanova/status/5641161...</td>\n",
       "    </tr>\n",
       "    <tr>\n",
       "      <th>1213811</th>\n",
       "      <td>1423331367</td>\n",
       "      <td>1085.0</td>\n",
       "      <td>1</td>\n",
       "      <td>3.046343</td>\n",
       "      <td>1051</td>\n",
       "      <td>5</td>\n",
       "      <td>267.0</td>\n",
       "      <td>320.0</td>\n",
       "      <td>@pscgt2015 Nice, Debbie! @futieton #SB49 #phx ...</td>\n",
       "      <td>http://twitter.com/PaulLopezPR/status/56411875...</td>\n",
       "    </tr>\n",
       "    <tr>\n",
       "      <th>1213812</th>\n",
       "      <td>1423332008</td>\n",
       "      <td>43330.0</td>\n",
       "      <td>4</td>\n",
       "      <td>5.003467</td>\n",
       "      <td>43658</td>\n",
       "      <td>4</td>\n",
       "      <td>186.0</td>\n",
       "      <td>213.0</td>\n",
       "      <td>Are you still celebrating the #SuperBowl win? ...</td>\n",
       "      <td>http://twitter.com/617Football/status/56412144...</td>\n",
       "    </tr>\n",
       "  </tbody>\n",
       "</table>\n",
       "<p>1213813 rows × 10 columns</p>\n",
       "</div>"
      ],
      "text/plain": [
       "               time  followers  retweets  ranking_score  impressions  \\\n",
       "0        1421468497       22.0         2       3.229207            5   \n",
       "1        1421467579       22.0        15       4.033474            4   \n",
       "2        1421266957      858.0         2       6.944451          833   \n",
       "3        1421261298    14335.0         2       6.660640        13943   \n",
       "4        1421316031     1143.0         7       3.856183         1101   \n",
       "...             ...        ...       ...            ...          ...   \n",
       "1213808  1423328580      297.0         1       3.799734          256   \n",
       "1213809  1423330066     1759.0         1       4.025752          923   \n",
       "1213810  1423330744    69827.0         5       5.163357        78371   \n",
       "1213811  1423331367     1085.0         1       3.046343         1051   \n",
       "1213812  1423332008    43330.0         4       5.003467        43658   \n",
       "\n",
       "         num_hashtags  hashtag1  hashtag2  \\\n",
       "0                   7     466.0     537.0   \n",
       "1                   6     317.0     374.0   \n",
       "2                   5     254.0     301.0   \n",
       "3                   4     247.0     306.0   \n",
       "4                   2     102.0     121.0   \n",
       "...               ...       ...       ...   \n",
       "1213808             3     337.0     360.0   \n",
       "1213809             3     292.0     328.0   \n",
       "1213810             7     395.0     456.0   \n",
       "1213811             5     267.0     320.0   \n",
       "1213812             4     186.0     213.0   \n",
       "\n",
       "                                                tweet_text  \\\n",
       "0        At http://t.co/Vd0RWOeAed -- #Seahawks #12thMA...   \n",
       "1        You been 12ed pass it on #SeahawkNation #LOB #...   \n",
       "2        27 days to the SuperBowl 🏈🏈\\n#Katyperry #KatyC...   \n",
       "3        Check out the cool event that  #budlight has p...   \n",
       "4        Lenny Kravitz acompañará a Katy Perry en el #H...   \n",
       "...                                                    ...   \n",
       "1213808  Look at this crazy map of all the private jets...   \n",
       "1213809  Where to start making money online for beginne...   \n",
       "1213810  Still in superbowl mode 🏈🏈🏈\\n#SB49 #superbowl ...   \n",
       "1213811  @pscgt2015 Nice, Debbie! @futieton #SB49 #phx ...   \n",
       "1213812  Are you still celebrating the #SuperBowl win? ...   \n",
       "\n",
       "                                                       url  \n",
       "0        http://twitter.com/HawksNationYes/status/54965...  \n",
       "1        http://twitter.com/brygarza/status/55158539355...  \n",
       "2        http://twitter.com/gatinhodakaty02/status/5516...  \n",
       "3        http://twitter.com/BlinkEventsDSM/status/55292...  \n",
       "4        http://twitter.com/KatyCat_Prism_/status/55433...  \n",
       "...                                                    ...  \n",
       "1213808  http://twitter.com/SunTimesPHX/status/56410707...  \n",
       "1213809  http://twitter.com/Jane_Michaels98/status/5641...  \n",
       "1213810  http://twitter.com/IrynaIvanova/status/5641161...  \n",
       "1213811  http://twitter.com/PaulLopezPR/status/56411875...  \n",
       "1213812  http://twitter.com/617Football/status/56412144...  \n",
       "\n",
       "[1213813 rows x 10 columns]"
      ]
     },
     "execution_count": 37,
     "metadata": {},
     "output_type": "execute_result"
    }
   ],
   "source": [
    "df = pd.DataFrame.from_dict(dictionary_list)\n",
    "df"
   ]
  },
  {
   "cell_type": "code",
   "execution_count": 47,
   "id": "5d44ba8b",
   "metadata": {
    "scrolled": true
   },
   "outputs": [
    {
     "data": {
      "text/plain": [
       "{'firstpost_date': 1419883838,\n",
       " 'title': 'At http://t.co/Vd0RWOeAed -- #Seahawks #12thMAN #12 #SeahawkNation #SuperBowlBound #Superbowl #Repeat #GoHawks ... http://t.co/XSEFUKqEhN',\n",
       " 'url': 'http://twitter.com/HawksNationYes/status/549658771749101568',\n",
       " 'tweet': {'contributors': None,\n",
       "  'truncated': False,\n",
       "  'text': 'At http://t.co/Vd0RWOeAed -- #Seahawks #12thMAN #12 #SeahawkNation #SuperBowlBound #Superbowl #Repeat #GoHawks ... http://t.co/XSEFUKqEhN',\n",
       "  'in_reply_to_status_id': None,\n",
       "  'id': 549658771749101568,\n",
       "  'favorite_count': 0,\n",
       "  'source': '<a href=\"http://ifttt.com\" rel=\"nofollow\">IFTTT</a>',\n",
       "  'retweeted': False,\n",
       "  'coordinates': None,\n",
       "  'timestamp_ms': '1419883838008',\n",
       "  'entities': {'symbols': [],\n",
       "   'media': [{'expanded_url': 'http://twitter.com/HawksNationYes/status/549658771749101568/photo/1',\n",
       "     'sizes': {'large': {'h': 640, 'resize': 'fit', 'w': 640},\n",
       "      'small': {'h': 340, 'resize': 'fit', 'w': 340},\n",
       "      'medium': {'h': 600, 'resize': 'fit', 'w': 600},\n",
       "      'thumb': {'h': 150, 'resize': 'crop', 'w': 150}},\n",
       "     'url': 'http://t.co/XSEFUKqEhN',\n",
       "     'media_url_https': 'https://pbs.twimg.com/media/B6DHvZfIcAErwQ8.jpg',\n",
       "     'id_str': '549658771648442369',\n",
       "     'indices': [115, 137],\n",
       "     'media_url': 'http://pbs.twimg.com/media/B6DHvZfIcAErwQ8.jpg',\n",
       "     'type': 'photo',\n",
       "     'id': 549658771648442369,\n",
       "     'display_url': 'pic.twitter.com/XSEFUKqEhN'}],\n",
       "   'hashtags': [{'indices': [29, 38], 'text': 'Seahawks'},\n",
       "    {'indices': [39, 47], 'text': '12thMAN'},\n",
       "    {'indices': [52, 66], 'text': 'SeahawkNation'},\n",
       "    {'indices': [67, 82], 'text': 'SuperBowlBound'},\n",
       "    {'indices': [83, 93], 'text': 'Superbowl'},\n",
       "    {'indices': [94, 101], 'text': 'Repeat'},\n",
       "    {'indices': [102, 110], 'text': 'GoHawks'}],\n",
       "   'user_mentions': [],\n",
       "   'trends': [],\n",
       "   'urls': [{'indices': [3, 25],\n",
       "     'url': 'http://t.co/Vd0RWOeAed',\n",
       "     'expanded_url': 'http://iqboom.com/seahawks',\n",
       "     'display_url': 'iqboom.com/seahawks'}]},\n",
       "  'in_reply_to_screen_name': None,\n",
       "  'in_reply_to_user_id': None,\n",
       "  'retweet_count': 0,\n",
       "  'id_str': '549658771749101568',\n",
       "  'favorited': False,\n",
       "  'user': {'follow_request_sent': None,\n",
       "   'profile_use_background_image': True,\n",
       "   'geo_enabled': False,\n",
       "   'description': '#seahawks',\n",
       "   'verified': False,\n",
       "   'profile_image_url_https': 'https://pbs.twimg.com/profile_images/450368952107950080/DYOcKrlw_normal.jpeg',\n",
       "   'profile_sidebar_fill_color': 'DDEEF6',\n",
       "   'is_translator': False,\n",
       "   'id': 2419495681,\n",
       "   'profile_text_color': '333333',\n",
       "   'followers_count': 811,\n",
       "   'profile_sidebar_border_color': 'C0DEED',\n",
       "   'id_str': '2419495681',\n",
       "   'default_profile_image': False,\n",
       "   'location': '',\n",
       "   'utc_offset': None,\n",
       "   'statuses_count': 82505,\n",
       "   'profile_background_color': 'C0DEED',\n",
       "   'friends_count': 17,\n",
       "   'profile_link_color': '0084B4',\n",
       "   'profile_image_url': 'http://pbs.twimg.com/profile_images/450368952107950080/DYOcKrlw_normal.jpeg',\n",
       "   'notifications': None,\n",
       "   'profile_background_image_url_https': 'https://abs.twimg.com/images/themes/theme1/bg.png',\n",
       "   'profile_background_image_url': 'http://abs.twimg.com/images/themes/theme1/bg.png',\n",
       "   'name': 'Hawks Nation, Yes',\n",
       "   'lang': 'en',\n",
       "   'profile_background_tile': False,\n",
       "   'favourites_count': 0,\n",
       "   'screen_name': 'HawksNationYes',\n",
       "   'url': 'http://hawksnationyes.tumblr.com',\n",
       "   'created_at': 'Sun Mar 30 20:28:01 +0000 2014',\n",
       "   'contributors_enabled': False,\n",
       "   'time_zone': None,\n",
       "   'protected': False,\n",
       "   'default_profile': True,\n",
       "   'following': None,\n",
       "   'listed_count': 21},\n",
       "  'geo': None,\n",
       "  'in_reply_to_user_id_str': None,\n",
       "  'possibly_sensitive': False,\n",
       "  'lang': 'und',\n",
       "  'created_at': 'Mon Dec 29 20:10:38 +0000 2014',\n",
       "  'filter_level': 'medium',\n",
       "  'in_reply_to_status_id_str': None,\n",
       "  'place': None,\n",
       "  'extended_entities': {'media': [{'expanded_url': 'http://twitter.com/HawksNationYes/status/549658771749101568/photo/1',\n",
       "     'sizes': {'large': {'h': 640, 'resize': 'fit', 'w': 640},\n",
       "      'small': {'h': 340, 'resize': 'fit', 'w': 340},\n",
       "      'medium': {'h': 600, 'resize': 'fit', 'w': 600},\n",
       "      'thumb': {'h': 150, 'resize': 'crop', 'w': 150}},\n",
       "     'url': 'http://t.co/XSEFUKqEhN',\n",
       "     'media_url_https': 'https://pbs.twimg.com/media/B6DHvZfIcAErwQ8.jpg',\n",
       "     'id_str': '549658771648442369',\n",
       "     'indices': [115, 137],\n",
       "     'media_url': 'http://pbs.twimg.com/media/B6DHvZfIcAErwQ8.jpg',\n",
       "     'type': 'photo',\n",
       "     'id': 549658771648442369,\n",
       "     'display_url': 'pic.twitter.com/XSEFUKqEhN'}]}},\n",
       " 'author': {'author_img': 'http://pbs.twimg.com/profile_images/508736487706206208/PHzhMVOj_normal.jpeg',\n",
       "  'name': 'Becca Delgado',\n",
       "  'url': 'http://twitter.com/beccadelgado67',\n",
       "  'nick': 'beccadelgado67',\n",
       "  'followers': 22.0,\n",
       "  'image_url': 'http://pbs.twimg.com/profile_images/508736487706206208/PHzhMVOj_normal.jpeg',\n",
       "  'type': 'twitter',\n",
       "  'description': 'Faith.  Family.  Football.'},\n",
       " 'original_author': {'author_img': 'http://pbs.twimg.com/profile_images/450368952107950080/DYOcKrlw_normal.jpeg',\n",
       "  'description': '#seahawks',\n",
       "  'url': 'http://twitter.com/hawksnationyes',\n",
       "  'nick': 'hawksnationyes',\n",
       "  'followers': 1175.0,\n",
       "  'image_url': 'http://pbs.twimg.com/profile_images/450368952107950080/DYOcKrlw_normal.jpeg',\n",
       "  'type': 'twitter',\n",
       "  'name': 'Hawks Nation, Yes'},\n",
       " 'citation_date': 1421468497,\n",
       " 'metrics': {'acceleration': 0,\n",
       "  'ranking_score': 3.2292066,\n",
       "  'citations': {'influential': 0,\n",
       "   'total': 2,\n",
       "   'data': [{'timestamp': 1421468459, 'citations': 0}],\n",
       "   'matching': 1,\n",
       "   'replies': 0},\n",
       "  'peak': 0,\n",
       "  'impressions': 5,\n",
       "  'momentum': 0},\n",
       " 'highlight': 'At http://t.co/Vd0RWOeAed -- #Seahawks #12thMAN #12 #SeahawkNation #SuperBowlBound #Superbowl #Repeat #GoHawks ... http://t.co/XSEFUKqEhN',\n",
       " 'type': 'retweet:native',\n",
       " 'citation_url': 'http://twitter.com/BeccaDelgado67/status/556305315676037120'}"
      ]
     },
     "execution_count": 47,
     "metadata": {},
     "output_type": "execute_result"
    }
   ],
   "source": [
    "tweet"
   ]
  },
  {
   "cell_type": "code",
   "execution_count": 46,
   "id": "322000e2",
   "metadata": {},
   "outputs": [
    {
     "data": {
      "text/plain": [
       "Text(0.5, 0.98, 'retweet EDA')"
      ]
     },
     "execution_count": 46,
     "metadata": {},
     "output_type": "execute_result"
    },
    {
     "data": {
      "image/png": "[encoded data removed]",
      "text/plain": [
       "<Figure size 1440x1440 with 7 Axes>"
      ]
     },
     "metadata": {
      "needs_background": "light"
     },
     "output_type": "display_data"
    }
   ],
   "source": [
    "plt.figure(figsize=(20,20))\n",
    "plt.subplot(421)\n",
    "plt.scatter(df['time'], df['retweets'])\n",
    "plt.xlabel('time')\n",
    "plt.ylabel('retweets')\n",
    "plt.title('time vs retweets')\n",
    "\n",
    "plt.subplot(422)\n",
    "plt.scatter(df['followers'], df['retweets'])\n",
    "plt.xlabel('followers')\n",
    "plt.ylabel('retweets')\n",
    "plt.title('followers vs retweets')\n",
    "\n",
    "plt.subplot(423)\n",
    "plt.scatter(df['impressions'], df['retweets'])\n",
    "plt.xlabel('impressions')\n",
    "plt.ylabel('retweets')\n",
    "plt.title('impressions vs retweets')\n",
    "\n",
    "plt.subplot(424)\n",
    "plt.scatter(df['ranking_score'], df['retweets'])\n",
    "plt.xlabel('ranking_score')\n",
    "plt.ylabel('retweets')\n",
    "plt.title('ranking_score vs retweets')\n",
    "\n",
    "plt.subplot(425)\n",
    "plt.scatter(df['num_hashtags'], df['retweets'])\n",
    "plt.xlabel('num_hashtags')\n",
    "plt.ylabel('retweets')\n",
    "plt.title('num_hashtags vs retweets')\n",
    "\n",
    "plt.subplot(426)\n",
    "plt.scatter(df['hashtag1'], df['retweets'])\n",
    "plt.xlabel('hashtag1')\n",
    "plt.ylabel('retweets')\n",
    "plt.title('hashtag1 vs retweets')\n",
    "\n",
    "plt.subplot(427)\n",
    "plt.scatter(df['hashtag2'], df['retweets'])\n",
    "plt.xlabel('hashtag2')\n",
    "plt.ylabel('retweets')\n",
    "plt.title('hashtag2 vs retweets')\n",
    "\n",
    "plt.suptitle('retweet EDA')"
   ]
  },
  {
   "cell_type": "code",
   "execution_count": 45,
   "id": "40143b85",
   "metadata": {},
   "outputs": [
    {
     "data": {
      "text/plain": [
       "Text(0.5, 0.98, 'time EDA')"
      ]
     },
     "execution_count": 45,
     "metadata": {},
     "output_type": "execute_result"
    },
    {
     "data": {
      "image/png": "[encoded data removed]",
      "text/plain": [
       "<Figure size 1440x1440 with 7 Axes>"
      ]
     },
     "metadata": {
      "needs_background": "light"
     },
     "output_type": "display_data"
    }
   ],
   "source": [
    "plt.figure(figsize=(20,20))\n",
    "plt.subplot(421)\n",
    "plt.scatter(df['retweets'], df['time'])\n",
    "plt.xlabel('retweets')\n",
    "plt.ylabel('time')\n",
    "plt.title('retweets vs time')\n",
    "\n",
    "plt.subplot(422)\n",
    "plt.scatter(df['followers'], df['time'])\n",
    "plt.xlabel('followers')\n",
    "plt.ylabel('retweets')\n",
    "plt.title('followers vs time')\n",
    "\n",
    "plt.subplot(423)\n",
    "plt.scatter(df['impressions'], df['time'])\n",
    "plt.xlabel('impressions')\n",
    "plt.ylabel('retweets')\n",
    "plt.title('impressions vs time')\n",
    "\n",
    "plt.subplot(424)\n",
    "plt.scatter(df['ranking_score'], df['time'])\n",
    "plt.xlabel('ranking_score')\n",
    "plt.ylabel('retweets')\n",
    "plt.title('ranking_score vs time')\n",
    "\n",
    "plt.subplot(425)\n",
    "plt.scatter(df['num_hashtags'], df['time'])\n",
    "plt.xlabel('num_hashtags')\n",
    "plt.ylabel('retweets')\n",
    "plt.title('num_hashtags vs time')\n",
    "\n",
    "plt.subplot(426)\n",
    "plt.scatter(df['hashtag1'], df['time'])\n",
    "plt.xlabel('hashtag1')\n",
    "plt.ylabel('retweets')\n",
    "plt.title('hashtag1 vs time')\n",
    "\n",
    "plt.subplot(427)\n",
    "plt.scatter(df['hashtag2'], df['time'])\n",
    "plt.xlabel('hashtag2')\n",
    "plt.ylabel('retweets')\n",
    "plt.title('hashtag2 vs time')\n",
    "\n",
    "plt.suptitle('time EDA')"
   ]
  },
  {
   "cell_type": "code",
   "execution_count": 49,
   "id": "51a92648",
   "metadata": {},
   "outputs": [
    {
     "data": {
      "text/plain": [
       "Text(0.5, 1.0, 'hashtag2 vs time')"
      ]
     },
     "execution_count": 49,
     "metadata": {},
     "output_type": "execute_result"
    },
    {
     "data": {
      "image/png": "[encoded data removed]",
      "text/plain": [
       "<Figure size 1440x360 with 2 Axes>"
      ]
     },
     "metadata": {
      "needs_background": "light"
     },
     "output_type": "display_data"
    }
   ],
   "source": [
    "plt.figure(figsize=(20,5))\n",
    "\n",
    "plt.subplot(211)\n",
    "plt.scatter( df['time'], df['hashtag1'])\n",
    "plt.ylabel('hashtag1')\n",
    "plt.xlabel('retweets')\n",
    "plt.title('hashtag1 vs time')\n",
    "\n",
    "plt.subplot(212)\n",
    "plt.scatter( df['time'],df['hashtag2'])\n",
    "plt.ylabel('hashtag2')\n",
    "plt.xlabel('retweets')\n",
    "plt.title('hashtag2 vs time')\n"
   ]
  },
  {
   "cell_type": "code",
   "execution_count": null,
   "id": "19724716",
   "metadata": {},
   "outputs": [],
   "source": [
    "df_final.to_csv('./sb_49.csv')"
   ]
  },
  {
   "cell_type": "code",
   "execution_count": 31,
   "id": "3kPy_PuxF49T",
   "metadata": {
    "id": "3kPy_PuxF49T"
   },
   "outputs": [],
   "source": [
    "import pickle\n",
    "with open('train_tfidf.pickle', 'wb') as handle:\n",
    "    pickle.dump(train_tfidf,handle)\n",
    "with open('test_tfidf.pickle', 'wb') as handle:\n",
    "    pickle.dump(test_tfidf,handle)"
   ]
  },
  {
   "cell_type": "code",
   "execution_count": 32,
   "id": "PlgKhTR7GLDW",
   "metadata": {
    "id": "PlgKhTR7GLDW"
   },
   "outputs": [],
   "source": [
    "from sklearn.decomposition import TruncatedSVD\n",
    "lsi = TruncatedSVD(n_components=50,random_state = 42)\n",
    "lsiTrain = lsi.fit_transform(train_tfidf)\n",
    "lsiTest = lsi.transform(test_tfidf)"
   ]
  },
  {
   "cell_type": "code",
   "execution_count": 57,
   "id": "Ghq5WFYJI8Rw",
   "metadata": {
    "colab": {
     "base_uri": "https://localhost:8080/"
    },
    "id": "Ghq5WFYJI8Rw",
    "outputId": "2d13ca1f-70d0-4e60-be4c-a7a02b1dfe97"
   },
   "outputs": [
    {
     "data": {
      "text/plain": [
       "((2258990, 5), <2258990x106469 sparse matrix of type '<class 'numpy.float64'>'\n",
       " \twith 16513828 stored elements in Compressed Sparse Row format>)"
      ]
     },
     "execution_count": 57,
     "metadata": {},
     "output_type": "execute_result"
    }
   ],
   "source": [
    "x = train[[\"time\",\"followers\",\"retweets\", \"ranking_score\", \"impressions\"]].to_numpy()\n",
    "x.shape, train_tfidf"
   ]
  },
  {
   "cell_type": "code",
   "execution_count": 1,
   "id": "KRp0fSU4HqLq",
   "metadata": {
    "colab": {
     "base_uri": "https://localhost:8080/",
     "height": 258
    },
    "id": "KRp0fSU4HqLq",
    "outputId": "023c1a57-7988-4d84-929f-4e098347606f"
   },
   "outputs": [
    {
     "ename": "NameError",
     "evalue": "ignored",
     "output_type": "error",
     "traceback": [
      "\u001b[0;31m---------------------------------------------------------------------------\u001b[0m",
      "\u001b[0;31mNameError\u001b[0m                                 Traceback (most recent call last)",
      "\u001b[0;32m<ipython-input-1-179a5e3f5169>\u001b[0m in \u001b[0;36m<module>\u001b[0;34m()\u001b[0m\n\u001b[1;32m      1\u001b[0m \u001b[0;31m# new_train =\u001b[0m\u001b[0;34m\u001b[0m\u001b[0;34m\u001b[0m\u001b[0;34m\u001b[0m\u001b[0m\n\u001b[0;32m----> 2\u001b[0;31m \u001b[0mx\u001b[0m \u001b[0;34m=\u001b[0m \u001b[0mtrain\u001b[0m\u001b[0;34m[\u001b[0m\u001b[0;34m[\u001b[0m\u001b[0;34m\"time\"\u001b[0m\u001b[0;34m,\u001b[0m\u001b[0;34m\"followers\"\u001b[0m\u001b[0;34m,\u001b[0m\u001b[0;34m\"retweets\"\u001b[0m\u001b[0;34m,\u001b[0m \u001b[0;34m\"ranking_score\"\u001b[0m\u001b[0;34m,\u001b[0m \u001b[0;34m\"impressions\"\u001b[0m\u001b[0;34m]\u001b[0m\u001b[0;34m]\u001b[0m\u001b[0;34m.\u001b[0m\u001b[0mto_numpy\u001b[0m\u001b[0;34m(\u001b[0m\u001b[0;34m)\u001b[0m\u001b[0;34m\u001b[0m\u001b[0;34m\u001b[0m\u001b[0m\n\u001b[0m\u001b[1;32m      3\u001b[0m \u001b[0mnew_train\u001b[0m \u001b[0;34m=\u001b[0m \u001b[0mnp\u001b[0m\u001b[0;34m.\u001b[0m\u001b[0mconcatenate\u001b[0m\u001b[0;34m(\u001b[0m\u001b[0;34m[\u001b[0m\u001b[0mx\u001b[0m\u001b[0;34m,\u001b[0m \u001b[0mtrain_tfidf\u001b[0m\u001b[0;34m.\u001b[0m\u001b[0mtoarray\u001b[0m\u001b[0;34m(\u001b[0m\u001b[0;34m)\u001b[0m\u001b[0;34m]\u001b[0m\u001b[0;34m,\u001b[0m\u001b[0maxis\u001b[0m\u001b[0;34m=\u001b[0m\u001b[0;36m1\u001b[0m\u001b[0;34m)\u001b[0m\u001b[0;34m\u001b[0m\u001b[0;34m\u001b[0m\u001b[0m\n\u001b[1;32m      4\u001b[0m \u001b[0;34m\u001b[0m\u001b[0m\n\u001b[1;32m      5\u001b[0m \u001b[0;31m# df = pd.DataFrame(new_train, columns = [\"time\",\"followers\",\"retweets\", \"ranking_score\", \"impressions\"])\u001b[0m\u001b[0;34m\u001b[0m\u001b[0;34m\u001b[0m\u001b[0;34m\u001b[0m\u001b[0m\n",
      "\u001b[0;31mNameError\u001b[0m: name 'train' is not defined"
     ]
    }
   ],
   "source": [
    "# new_train = \n",
    "x = train[[\"time\",\"followers\",\"retweets\", \"ranking_score\", \"impressions\"]].to_numpy()\n",
    "new_train = np.concatenate([x, train_tfidf.toarray()],axis=1)\n",
    "\n",
    "# df = pd.DataFrame(new_train, columns = [\"time\",\"followers\",\"retweets\", \"ranking_score\", \"impressions\"])\n",
    "# df_final.to_csv('./train.csv')"
   ]
  },
  {
   "cell_type": "code",
   "execution_count": 38,
   "id": "e2ctMuUCGVZo",
   "metadata": {
    "colab": {
     "base_uri": "https://localhost:8080/",
     "height": 302
    },
    "id": "e2ctMuUCGVZo",
    "outputId": "222eda07-5b62-43ff-fa6c-bfed256e443e"
   },
   "outputs": [
    {
     "name": "stdout",
     "output_type": "stream",
     "text": [
      "Populating the interactive namespace from numpy and matplotlib\n"
     ]
    },
    {
     "data": {
      "text/plain": [
       "<matplotlib.image.AxesImage at 0x7f3266ff4850>"
      ]
     },
     "execution_count": 38,
     "metadata": {},
     "output_type": "execute_result"
    },
    {
     "data": {
      "image/png": "[encoded data removed]",
      "text/plain": [
       "<Figure size 432x288 with 1 Axes>"
      ]
     },
     "metadata": {
      "needs_background": "light"
     },
     "output_type": "display_data"
    }
   ],
   "source": [
    "with open('train_tfidf.pickle', 'wb') as handle:\n",
    "    pickle.dump(lsiTrain,handle)\n",
    "with open('test_tfidf.pickle', 'wb') as handle:\n",
    "    pickle.dump(test_tfidf,handle)"
   ]
  },
  {
   "cell_type": "code",
   "execution_count": null,
   "id": "e0478377",
   "metadata": {
    "id": "e0478377",
    "outputId": "56ffd9ef-cdae-4d57-bf42-6649b46f89c1"
   },
   "outputs": [
    {
     "name": "stdout",
     "output_type": "stream",
     "text": [
      "100\n",
      "200\n"
     ]
    },
    {
     "ename": "KeyboardInterrupt",
     "evalue": "",
     "output_type": "error",
     "traceback": [
      "\u001b[0;31m---------------------------------------------------------------------------\u001b[0m",
      "\u001b[0;31mKeyboardInterrupt\u001b[0m                         Traceback (most recent call last)",
      "\u001b[0;32m/var/folders/zz/vkm24chs4xd_mnmr6c68qmz80000gn/T/ipykernel_36591/1985815923.py\u001b[0m in \u001b[0;36m<module>\u001b[0;34m\u001b[0m\n\u001b[1;32m     27\u001b[0m         \u001b[0mids\u001b[0m \u001b[0;34m=\u001b[0m \u001b[0mids\u001b[0m\u001b[0;34m.\u001b[0m\u001b[0mto\u001b[0m\u001b[0;34m(\u001b[0m\u001b[0mdevice\u001b[0m\u001b[0;34m)\u001b[0m\u001b[0;34m\u001b[0m\u001b[0;34m\u001b[0m\u001b[0m\n\u001b[1;32m     28\u001b[0m         \u001b[0;32mwith\u001b[0m \u001b[0mtorch\u001b[0m\u001b[0;34m.\u001b[0m\u001b[0mno_grad\u001b[0m\u001b[0;34m(\u001b[0m\u001b[0;34m)\u001b[0m\u001b[0;34m:\u001b[0m\u001b[0;34m\u001b[0m\u001b[0;34m\u001b[0m\u001b[0m\n\u001b[0;32m---> 29\u001b[0;31m             \u001b[0mout\u001b[0m \u001b[0;34m=\u001b[0m \u001b[0mmodel\u001b[0m\u001b[0;34m(\u001b[0m\u001b[0minput_ids\u001b[0m\u001b[0;34m=\u001b[0m\u001b[0mids\u001b[0m\u001b[0;34m)\u001b[0m\u001b[0;34m\u001b[0m\u001b[0;34m\u001b[0m\u001b[0m\n\u001b[0m\u001b[1;32m     30\u001b[0m         \u001b[0mhidden_states\u001b[0m \u001b[0;34m=\u001b[0m \u001b[0mout\u001b[0m\u001b[0;34m[\u001b[0m\u001b[0;36m2\u001b[0m\u001b[0;34m]\u001b[0m\u001b[0;34m\u001b[0m\u001b[0;34m\u001b[0m\u001b[0m\n\u001b[1;32m     31\u001b[0m         \u001b[0mlast_four_layers\u001b[0m \u001b[0;34m=\u001b[0m \u001b[0;34m[\u001b[0m\u001b[0mhidden_states\u001b[0m\u001b[0;34m[\u001b[0m\u001b[0mi\u001b[0m\u001b[0;34m]\u001b[0m \u001b[0;32mfor\u001b[0m \u001b[0mi\u001b[0m \u001b[0;32min\u001b[0m \u001b[0;34m(\u001b[0m\u001b[0;34m-\u001b[0m\u001b[0;36m1\u001b[0m\u001b[0;34m,\u001b[0m \u001b[0;34m-\u001b[0m\u001b[0;36m2\u001b[0m\u001b[0;34m,\u001b[0m \u001b[0;34m-\u001b[0m\u001b[0;36m3\u001b[0m\u001b[0;34m,\u001b[0m \u001b[0;34m-\u001b[0m\u001b[0;36m4\u001b[0m\u001b[0;34m)\u001b[0m\u001b[0;34m]\u001b[0m\u001b[0;34m\u001b[0m\u001b[0;34m\u001b[0m\u001b[0m\n",
      "\u001b[0;32m/usr/local/lib/python3.9/site-packages/torch/nn/modules/module.py\u001b[0m in \u001b[0;36m_call_impl\u001b[0;34m(self, *input, **kwargs)\u001b[0m\n\u001b[1;32m   1049\u001b[0m         if not (self._backward_hooks or self._forward_hooks or self._forward_pre_hooks or _global_backward_hooks\n\u001b[1;32m   1050\u001b[0m                 or _global_forward_hooks or _global_forward_pre_hooks):\n\u001b[0;32m-> 1051\u001b[0;31m             \u001b[0;32mreturn\u001b[0m \u001b[0mforward_call\u001b[0m\u001b[0;34m(\u001b[0m\u001b[0;34m*\u001b[0m\u001b[0minput\u001b[0m\u001b[0;34m,\u001b[0m \u001b[0;34m**\u001b[0m\u001b[0mkwargs\u001b[0m\u001b[0;34m)\u001b[0m\u001b[0;34m\u001b[0m\u001b[0;34m\u001b[0m\u001b[0m\n\u001b[0m\u001b[1;32m   1052\u001b[0m         \u001b[0;31m# Do not call functions when jit is used\u001b[0m\u001b[0;34m\u001b[0m\u001b[0;34m\u001b[0m\u001b[0m\n\u001b[1;32m   1053\u001b[0m         \u001b[0mfull_backward_hooks\u001b[0m\u001b[0;34m,\u001b[0m \u001b[0mnon_full_backward_hooks\u001b[0m \u001b[0;34m=\u001b[0m \u001b[0;34m[\u001b[0m\u001b[0;34m]\u001b[0m\u001b[0;34m,\u001b[0m \u001b[0;34m[\u001b[0m\u001b[0;34m]\u001b[0m\u001b[0;34m\u001b[0m\u001b[0;34m\u001b[0m\u001b[0m\n",
      "\u001b[0;32m/usr/local/lib/python3.9/site-packages/transformers/models/roberta/modeling_roberta.py\u001b[0m in \u001b[0;36mforward\u001b[0;34m(self, input_ids, attention_mask, token_type_ids, position_ids, head_mask, inputs_embeds, encoder_hidden_states, encoder_attention_mask, past_key_values, use_cache, output_attentions, output_hidden_states, return_dict)\u001b[0m\n\u001b[1;32m    848\u001b[0m             \u001b[0mpast_key_values_length\u001b[0m\u001b[0;34m=\u001b[0m\u001b[0mpast_key_values_length\u001b[0m\u001b[0;34m,\u001b[0m\u001b[0;34m\u001b[0m\u001b[0;34m\u001b[0m\u001b[0m\n\u001b[1;32m    849\u001b[0m         )\n\u001b[0;32m--> 850\u001b[0;31m         encoder_outputs = self.encoder(\n\u001b[0m\u001b[1;32m    851\u001b[0m             \u001b[0membedding_output\u001b[0m\u001b[0;34m,\u001b[0m\u001b[0;34m\u001b[0m\u001b[0;34m\u001b[0m\u001b[0m\n\u001b[1;32m    852\u001b[0m             \u001b[0mattention_mask\u001b[0m\u001b[0;34m=\u001b[0m\u001b[0mextended_attention_mask\u001b[0m\u001b[0;34m,\u001b[0m\u001b[0;34m\u001b[0m\u001b[0;34m\u001b[0m\u001b[0m\n",
      "\u001b[0;32m/usr/local/lib/python3.9/site-packages/torch/nn/modules/module.py\u001b[0m in \u001b[0;36m_call_impl\u001b[0;34m(self, *input, **kwargs)\u001b[0m\n\u001b[1;32m   1049\u001b[0m         if not (self._backward_hooks or self._forward_hooks or self._forward_pre_hooks or _global_backward_hooks\n\u001b[1;32m   1050\u001b[0m                 or _global_forward_hooks or _global_forward_pre_hooks):\n\u001b[0;32m-> 1051\u001b[0;31m             \u001b[0;32mreturn\u001b[0m \u001b[0mforward_call\u001b[0m\u001b[0;34m(\u001b[0m\u001b[0;34m*\u001b[0m\u001b[0minput\u001b[0m\u001b[0;34m,\u001b[0m \u001b[0;34m**\u001b[0m\u001b[0mkwargs\u001b[0m\u001b[0;34m)\u001b[0m\u001b[0;34m\u001b[0m\u001b[0;34m\u001b[0m\u001b[0m\n\u001b[0m\u001b[1;32m   1052\u001b[0m         \u001b[0;31m# Do not call functions when jit is used\u001b[0m\u001b[0;34m\u001b[0m\u001b[0;34m\u001b[0m\u001b[0m\n\u001b[1;32m   1053\u001b[0m         \u001b[0mfull_backward_hooks\u001b[0m\u001b[0;34m,\u001b[0m \u001b[0mnon_full_backward_hooks\u001b[0m \u001b[0;34m=\u001b[0m \u001b[0;34m[\u001b[0m\u001b[0;34m]\u001b[0m\u001b[0;34m,\u001b[0m \u001b[0;34m[\u001b[0m\u001b[0;34m]\u001b[0m\u001b[0;34m\u001b[0m\u001b[0;34m\u001b[0m\u001b[0m\n",
      "\u001b[0;32m/usr/local/lib/python3.9/site-packages/transformers/models/roberta/modeling_roberta.py\u001b[0m in \u001b[0;36mforward\u001b[0;34m(self, hidden_states, attention_mask, head_mask, encoder_hidden_states, encoder_attention_mask, past_key_values, use_cache, output_attentions, output_hidden_states, return_dict)\u001b[0m\n\u001b[1;32m    524\u001b[0m                 )\n\u001b[1;32m    525\u001b[0m             \u001b[0;32melse\u001b[0m\u001b[0;34m:\u001b[0m\u001b[0;34m\u001b[0m\u001b[0;34m\u001b[0m\u001b[0m\n\u001b[0;32m--> 526\u001b[0;31m                 layer_outputs = layer_module(\n\u001b[0m\u001b[1;32m    527\u001b[0m                     \u001b[0mhidden_states\u001b[0m\u001b[0;34m,\u001b[0m\u001b[0;34m\u001b[0m\u001b[0;34m\u001b[0m\u001b[0m\n\u001b[1;32m    528\u001b[0m                     \u001b[0mattention_mask\u001b[0m\u001b[0;34m,\u001b[0m\u001b[0;34m\u001b[0m\u001b[0;34m\u001b[0m\u001b[0m\n",
      "\u001b[0;32m/usr/local/lib/python3.9/site-packages/torch/nn/modules/module.py\u001b[0m in \u001b[0;36m_call_impl\u001b[0;34m(self, *input, **kwargs)\u001b[0m\n\u001b[1;32m   1049\u001b[0m         if not (self._backward_hooks or self._forward_hooks or self._forward_pre_hooks or _global_backward_hooks\n\u001b[1;32m   1050\u001b[0m                 or _global_forward_hooks or _global_forward_pre_hooks):\n\u001b[0;32m-> 1051\u001b[0;31m             \u001b[0;32mreturn\u001b[0m \u001b[0mforward_call\u001b[0m\u001b[0;34m(\u001b[0m\u001b[0;34m*\u001b[0m\u001b[0minput\u001b[0m\u001b[0;34m,\u001b[0m \u001b[0;34m**\u001b[0m\u001b[0mkwargs\u001b[0m\u001b[0;34m)\u001b[0m\u001b[0;34m\u001b[0m\u001b[0;34m\u001b[0m\u001b[0m\n\u001b[0m\u001b[1;32m   1052\u001b[0m         \u001b[0;31m# Do not call functions when jit is used\u001b[0m\u001b[0;34m\u001b[0m\u001b[0;34m\u001b[0m\u001b[0m\n\u001b[1;32m   1053\u001b[0m         \u001b[0mfull_backward_hooks\u001b[0m\u001b[0;34m,\u001b[0m \u001b[0mnon_full_backward_hooks\u001b[0m \u001b[0;34m=\u001b[0m \u001b[0;34m[\u001b[0m\u001b[0;34m]\u001b[0m\u001b[0;34m,\u001b[0m \u001b[0;34m[\u001b[0m\u001b[0;34m]\u001b[0m\u001b[0;34m\u001b[0m\u001b[0;34m\u001b[0m\u001b[0m\n",
      "\u001b[0;32m/usr/local/lib/python3.9/site-packages/transformers/models/roberta/modeling_roberta.py\u001b[0m in \u001b[0;36mforward\u001b[0;34m(self, hidden_states, attention_mask, head_mask, encoder_hidden_states, encoder_attention_mask, past_key_value, output_attentions)\u001b[0m\n\u001b[1;32m    410\u001b[0m         \u001b[0;31m# decoder uni-directional self-attention cached key/values tuple is at positions 1,2\u001b[0m\u001b[0;34m\u001b[0m\u001b[0;34m\u001b[0m\u001b[0m\n\u001b[1;32m    411\u001b[0m         \u001b[0mself_attn_past_key_value\u001b[0m \u001b[0;34m=\u001b[0m \u001b[0mpast_key_value\u001b[0m\u001b[0;34m[\u001b[0m\u001b[0;34m:\u001b[0m\u001b[0;36m2\u001b[0m\u001b[0;34m]\u001b[0m \u001b[0;32mif\u001b[0m \u001b[0mpast_key_value\u001b[0m \u001b[0;32mis\u001b[0m \u001b[0;32mnot\u001b[0m \u001b[0;32mNone\u001b[0m \u001b[0;32melse\u001b[0m \u001b[0;32mNone\u001b[0m\u001b[0;34m\u001b[0m\u001b[0;34m\u001b[0m\u001b[0m\n\u001b[0;32m--> 412\u001b[0;31m         self_attention_outputs = self.attention(\n\u001b[0m\u001b[1;32m    413\u001b[0m             \u001b[0mhidden_states\u001b[0m\u001b[0;34m,\u001b[0m\u001b[0;34m\u001b[0m\u001b[0;34m\u001b[0m\u001b[0m\n\u001b[1;32m    414\u001b[0m             \u001b[0mattention_mask\u001b[0m\u001b[0;34m,\u001b[0m\u001b[0;34m\u001b[0m\u001b[0;34m\u001b[0m\u001b[0m\n",
      "\u001b[0;32m/usr/local/lib/python3.9/site-packages/torch/nn/modules/module.py\u001b[0m in \u001b[0;36m_call_impl\u001b[0;34m(self, *input, **kwargs)\u001b[0m\n\u001b[1;32m   1049\u001b[0m         if not (self._backward_hooks or self._forward_hooks or self._forward_pre_hooks or _global_backward_hooks\n\u001b[1;32m   1050\u001b[0m                 or _global_forward_hooks or _global_forward_pre_hooks):\n\u001b[0;32m-> 1051\u001b[0;31m             \u001b[0;32mreturn\u001b[0m \u001b[0mforward_call\u001b[0m\u001b[0;34m(\u001b[0m\u001b[0;34m*\u001b[0m\u001b[0minput\u001b[0m\u001b[0;34m,\u001b[0m \u001b[0;34m**\u001b[0m\u001b[0mkwargs\u001b[0m\u001b[0;34m)\u001b[0m\u001b[0;34m\u001b[0m\u001b[0;34m\u001b[0m\u001b[0m\n\u001b[0m\u001b[1;32m   1052\u001b[0m         \u001b[0;31m# Do not call functions when jit is used\u001b[0m\u001b[0;34m\u001b[0m\u001b[0;34m\u001b[0m\u001b[0m\n\u001b[1;32m   1053\u001b[0m         \u001b[0mfull_backward_hooks\u001b[0m\u001b[0;34m,\u001b[0m \u001b[0mnon_full_backward_hooks\u001b[0m \u001b[0;34m=\u001b[0m \u001b[0;34m[\u001b[0m\u001b[0;34m]\u001b[0m\u001b[0;34m,\u001b[0m \u001b[0;34m[\u001b[0m\u001b[0;34m]\u001b[0m\u001b[0;34m\u001b[0m\u001b[0;34m\u001b[0m\u001b[0m\n",
      "\u001b[0;32m/usr/local/lib/python3.9/site-packages/transformers/models/roberta/modeling_roberta.py\u001b[0m in \u001b[0;36mforward\u001b[0;34m(self, hidden_states, attention_mask, head_mask, encoder_hidden_states, encoder_attention_mask, past_key_value, output_attentions)\u001b[0m\n\u001b[1;32m    337\u001b[0m         \u001b[0moutput_attentions\u001b[0m\u001b[0;34m=\u001b[0m\u001b[0;32mFalse\u001b[0m\u001b[0;34m,\u001b[0m\u001b[0;34m\u001b[0m\u001b[0;34m\u001b[0m\u001b[0m\n\u001b[1;32m    338\u001b[0m     ):\n\u001b[0;32m--> 339\u001b[0;31m         self_outputs = self.self(\n\u001b[0m\u001b[1;32m    340\u001b[0m             \u001b[0mhidden_states\u001b[0m\u001b[0;34m,\u001b[0m\u001b[0;34m\u001b[0m\u001b[0;34m\u001b[0m\u001b[0m\n\u001b[1;32m    341\u001b[0m             \u001b[0mattention_mask\u001b[0m\u001b[0;34m,\u001b[0m\u001b[0;34m\u001b[0m\u001b[0;34m\u001b[0m\u001b[0m\n",
      "\u001b[0;32m/usr/local/lib/python3.9/site-packages/torch/nn/modules/module.py\u001b[0m in \u001b[0;36m_call_impl\u001b[0;34m(self, *input, **kwargs)\u001b[0m\n\u001b[1;32m   1049\u001b[0m         if not (self._backward_hooks or self._forward_hooks or self._forward_pre_hooks or _global_backward_hooks\n\u001b[1;32m   1050\u001b[0m                 or _global_forward_hooks or _global_forward_pre_hooks):\n\u001b[0;32m-> 1051\u001b[0;31m             \u001b[0;32mreturn\u001b[0m \u001b[0mforward_call\u001b[0m\u001b[0;34m(\u001b[0m\u001b[0;34m*\u001b[0m\u001b[0minput\u001b[0m\u001b[0;34m,\u001b[0m \u001b[0;34m**\u001b[0m\u001b[0mkwargs\u001b[0m\u001b[0;34m)\u001b[0m\u001b[0;34m\u001b[0m\u001b[0;34m\u001b[0m\u001b[0m\n\u001b[0m\u001b[1;32m   1052\u001b[0m         \u001b[0;31m# Do not call functions when jit is used\u001b[0m\u001b[0;34m\u001b[0m\u001b[0;34m\u001b[0m\u001b[0m\n\u001b[1;32m   1053\u001b[0m         \u001b[0mfull_backward_hooks\u001b[0m\u001b[0;34m,\u001b[0m \u001b[0mnon_full_backward_hooks\u001b[0m \u001b[0;34m=\u001b[0m \u001b[0;34m[\u001b[0m\u001b[0;34m]\u001b[0m\u001b[0;34m,\u001b[0m \u001b[0;34m[\u001b[0m\u001b[0;34m]\u001b[0m\u001b[0;34m\u001b[0m\u001b[0;34m\u001b[0m\u001b[0m\n",
      "\u001b[0;32m/usr/local/lib/python3.9/site-packages/transformers/models/roberta/modeling_roberta.py\u001b[0m in \u001b[0;36mforward\u001b[0;34m(self, hidden_states, attention_mask, head_mask, encoder_hidden_states, encoder_attention_mask, past_key_value, output_attentions)\u001b[0m\n\u001b[1;32m    224\u001b[0m         \u001b[0;32melse\u001b[0m\u001b[0;34m:\u001b[0m\u001b[0;34m\u001b[0m\u001b[0;34m\u001b[0m\u001b[0m\n\u001b[1;32m    225\u001b[0m             \u001b[0mkey_layer\u001b[0m \u001b[0;34m=\u001b[0m \u001b[0mself\u001b[0m\u001b[0;34m.\u001b[0m\u001b[0mtranspose_for_scores\u001b[0m\u001b[0;34m(\u001b[0m\u001b[0mself\u001b[0m\u001b[0;34m.\u001b[0m\u001b[0mkey\u001b[0m\u001b[0;34m(\u001b[0m\u001b[0mhidden_states\u001b[0m\u001b[0;34m)\u001b[0m\u001b[0;34m)\u001b[0m\u001b[0;34m\u001b[0m\u001b[0;34m\u001b[0m\u001b[0m\n\u001b[0;32m--> 226\u001b[0;31m             \u001b[0mvalue_layer\u001b[0m \u001b[0;34m=\u001b[0m \u001b[0mself\u001b[0m\u001b[0;34m.\u001b[0m\u001b[0mtranspose_for_scores\u001b[0m\u001b[0;34m(\u001b[0m\u001b[0mself\u001b[0m\u001b[0;34m.\u001b[0m\u001b[0mvalue\u001b[0m\u001b[0;34m(\u001b[0m\u001b[0mhidden_states\u001b[0m\u001b[0;34m)\u001b[0m\u001b[0;34m)\u001b[0m\u001b[0;34m\u001b[0m\u001b[0;34m\u001b[0m\u001b[0m\n\u001b[0m\u001b[1;32m    227\u001b[0m \u001b[0;34m\u001b[0m\u001b[0m\n\u001b[1;32m    228\u001b[0m         \u001b[0mquery_layer\u001b[0m \u001b[0;34m=\u001b[0m \u001b[0mself\u001b[0m\u001b[0;34m.\u001b[0m\u001b[0mtranspose_for_scores\u001b[0m\u001b[0;34m(\u001b[0m\u001b[0mmixed_query_layer\u001b[0m\u001b[0;34m)\u001b[0m\u001b[0;34m\u001b[0m\u001b[0;34m\u001b[0m\u001b[0m\n",
      "\u001b[0;32m/usr/local/lib/python3.9/site-packages/torch/nn/modules/module.py\u001b[0m in \u001b[0;36m_call_impl\u001b[0;34m(self, *input, **kwargs)\u001b[0m\n\u001b[1;32m   1049\u001b[0m         if not (self._backward_hooks or self._forward_hooks or self._forward_pre_hooks or _global_backward_hooks\n\u001b[1;32m   1050\u001b[0m                 or _global_forward_hooks or _global_forward_pre_hooks):\n\u001b[0;32m-> 1051\u001b[0;31m             \u001b[0;32mreturn\u001b[0m \u001b[0mforward_call\u001b[0m\u001b[0;34m(\u001b[0m\u001b[0;34m*\u001b[0m\u001b[0minput\u001b[0m\u001b[0;34m,\u001b[0m \u001b[0;34m**\u001b[0m\u001b[0mkwargs\u001b[0m\u001b[0;34m)\u001b[0m\u001b[0;34m\u001b[0m\u001b[0;34m\u001b[0m\u001b[0m\n\u001b[0m\u001b[1;32m   1052\u001b[0m         \u001b[0;31m# Do not call functions when jit is used\u001b[0m\u001b[0;34m\u001b[0m\u001b[0;34m\u001b[0m\u001b[0m\n\u001b[1;32m   1053\u001b[0m         \u001b[0mfull_backward_hooks\u001b[0m\u001b[0;34m,\u001b[0m \u001b[0mnon_full_backward_hooks\u001b[0m \u001b[0;34m=\u001b[0m \u001b[0;34m[\u001b[0m\u001b[0;34m]\u001b[0m\u001b[0;34m,\u001b[0m \u001b[0;34m[\u001b[0m\u001b[0;34m]\u001b[0m\u001b[0;34m\u001b[0m\u001b[0;34m\u001b[0m\u001b[0m\n",
      "\u001b[0;32m/usr/local/lib/python3.9/site-packages/torch/nn/modules/linear.py\u001b[0m in \u001b[0;36mforward\u001b[0;34m(self, input)\u001b[0m\n\u001b[1;32m     94\u001b[0m \u001b[0;34m\u001b[0m\u001b[0m\n\u001b[1;32m     95\u001b[0m     \u001b[0;32mdef\u001b[0m \u001b[0mforward\u001b[0m\u001b[0;34m(\u001b[0m\u001b[0mself\u001b[0m\u001b[0;34m,\u001b[0m \u001b[0minput\u001b[0m\u001b[0;34m:\u001b[0m \u001b[0mTensor\u001b[0m\u001b[0;34m)\u001b[0m \u001b[0;34m->\u001b[0m \u001b[0mTensor\u001b[0m\u001b[0;34m:\u001b[0m\u001b[0;34m\u001b[0m\u001b[0;34m\u001b[0m\u001b[0m\n\u001b[0;32m---> 96\u001b[0;31m         \u001b[0;32mreturn\u001b[0m \u001b[0mF\u001b[0m\u001b[0;34m.\u001b[0m\u001b[0mlinear\u001b[0m\u001b[0;34m(\u001b[0m\u001b[0minput\u001b[0m\u001b[0;34m,\u001b[0m \u001b[0mself\u001b[0m\u001b[0;34m.\u001b[0m\u001b[0mweight\u001b[0m\u001b[0;34m,\u001b[0m \u001b[0mself\u001b[0m\u001b[0;34m.\u001b[0m\u001b[0mbias\u001b[0m\u001b[0;34m)\u001b[0m\u001b[0;34m\u001b[0m\u001b[0;34m\u001b[0m\u001b[0m\n\u001b[0m\u001b[1;32m     97\u001b[0m \u001b[0;34m\u001b[0m\u001b[0m\n\u001b[1;32m     98\u001b[0m     \u001b[0;32mdef\u001b[0m \u001b[0mextra_repr\u001b[0m\u001b[0;34m(\u001b[0m\u001b[0mself\u001b[0m\u001b[0;34m)\u001b[0m \u001b[0;34m->\u001b[0m \u001b[0mstr\u001b[0m\u001b[0;34m:\u001b[0m\u001b[0;34m\u001b[0m\u001b[0;34m\u001b[0m\u001b[0m\n",
      "\u001b[0;32m/usr/local/lib/python3.9/site-packages/torch/nn/functional.py\u001b[0m in \u001b[0;36mlinear\u001b[0;34m(input, weight, bias)\u001b[0m\n\u001b[1;32m   1845\u001b[0m     \u001b[0;32mif\u001b[0m \u001b[0mhas_torch_function_variadic\u001b[0m\u001b[0;34m(\u001b[0m\u001b[0minput\u001b[0m\u001b[0;34m,\u001b[0m \u001b[0mweight\u001b[0m\u001b[0;34m)\u001b[0m\u001b[0;34m:\u001b[0m\u001b[0;34m\u001b[0m\u001b[0;34m\u001b[0m\u001b[0m\n\u001b[1;32m   1846\u001b[0m         \u001b[0;32mreturn\u001b[0m \u001b[0mhandle_torch_function\u001b[0m\u001b[0;34m(\u001b[0m\u001b[0mlinear\u001b[0m\u001b[0;34m,\u001b[0m \u001b[0;34m(\u001b[0m\u001b[0minput\u001b[0m\u001b[0;34m,\u001b[0m \u001b[0mweight\u001b[0m\u001b[0;34m)\u001b[0m\u001b[0;34m,\u001b[0m \u001b[0minput\u001b[0m\u001b[0;34m,\u001b[0m \u001b[0mweight\u001b[0m\u001b[0;34m,\u001b[0m \u001b[0mbias\u001b[0m\u001b[0;34m=\u001b[0m\u001b[0mbias\u001b[0m\u001b[0;34m)\u001b[0m\u001b[0;34m\u001b[0m\u001b[0;34m\u001b[0m\u001b[0m\n\u001b[0;32m-> 1847\u001b[0;31m     \u001b[0;32mreturn\u001b[0m \u001b[0mtorch\u001b[0m\u001b[0;34m.\u001b[0m\u001b[0m_C\u001b[0m\u001b[0;34m.\u001b[0m\u001b[0m_nn\u001b[0m\u001b[0;34m.\u001b[0m\u001b[0mlinear\u001b[0m\u001b[0;34m(\u001b[0m\u001b[0minput\u001b[0m\u001b[0;34m,\u001b[0m \u001b[0mweight\u001b[0m\u001b[0;34m,\u001b[0m \u001b[0mbias\u001b[0m\u001b[0;34m)\u001b[0m\u001b[0;34m\u001b[0m\u001b[0;34m\u001b[0m\u001b[0m\n\u001b[0m\u001b[1;32m   1848\u001b[0m \u001b[0;34m\u001b[0m\u001b[0m\n\u001b[1;32m   1849\u001b[0m \u001b[0;34m\u001b[0m\u001b[0m\n",
      "\u001b[0;31mKeyboardInterrupt\u001b[0m: "
     ]
    }
   ],
   "source": [
    "import os\n",
    "import pandas as pd\n",
    "\n",
    "def Merge(dict1, dict2):\n",
    "    res = {**dict1, **dict2}\n",
    "    return res\n",
    "\n",
    "for fname in os.listdir(data_path):\n",
    "    name  = fname[7:-4]\n",
    "    file = []\n",
    "    with open(os.path.join(data_path,fname),encoding=\"utf8\") as f:\n",
    "        for line in f:\n",
    "            file.append(line)\n",
    "            \n",
    "    dictionary_list = []\n",
    "    for line in file:\n",
    "        tweet = json.loads(line)\n",
    "        # retrieve tweet metrics\n",
    "        time = tweet['citation_date']\n",
    "        followers = tweet['author']['followers']\n",
    "        retweets = tweet['metrics']['citations']['total']\n",
    "        ranking_score =  tweet['metrics']['ranking_score']\n",
    "        impressions =  tweet['metrics']['impressions']\n",
    "        # retrieve embeddings from tweet text\n",
    "        text = tweet['tweet']['text']\n",
    "        ids = tokenizer.encode(text, return_tensors='pt')\n",
    "        ids = ids.to(device)\n",
    "        with torch.no_grad():\n",
    "            out = model(input_ids=ids)\n",
    "        hidden_states = out[2]\n",
    "        last_four_layers = [hidden_states[i] for i in (-1, -2, -3, -4)]\n",
    "        cat_hidden_states = torch.cat(tuple(last_four_layers), dim=-1)\n",
    "        cat_sentence_embedding = torch.mean(cat_hidden_states, dim=1).squeeze().cpu()\n",
    "        # append to dictionary\n",
    "        metric_dict = {'followers':followers, 'ranking_score':ranking_score, 'impressions':impressions,'time':time, 'retweets':retweets}\n",
    "        embedding_dict = {i:k for i,k in enumerate(list(cat_sentence_embedding.numpy()))}\n",
    "        dictionary_data = Merge(metric_dict,embedding_dict)\n",
    "        dictionary_list.append(dictionary_data)\n",
    "        if len(dictionary_list) % 100 ==0:\n",
    "            print(len(dictionary_list))\n",
    "    df_final = pd.DataFrame.from_dict(dictionary_list)\n",
    "    df_final.to_csv('./' + name + '.csv')\n",
    "#         hashtags = [hashtag_dict['text'] for hashtag_dict in tweet['tweet']['entities']['hashtags']]\n",
    "#         clean_text = clean_text(text)\n",
    "        "
   ]
  },
  {
   "cell_type": "markdown",
   "id": "6dfb48c3",
   "metadata": {
    "id": "6dfb48c3"
   },
   "source": [
    "### Predict likes, retweets, time"
   ]
  },
  {
   "cell_type": "code",
   "execution_count": null,
   "id": "689dd15a",
   "metadata": {
    "id": "689dd15a",
    "outputId": "cc3c60ec-2fba-493c-cfca-6bd9cc693079"
   },
   "outputs": [
    {
     "data": {
      "text/plain": [
       "{'firstpost_date': 1423295675,\n",
       " 'title': 'That’s how you do it. #sb49 #gopatriots',\n",
       " 'url': 'http://twitter.com/ikazifojuw52/status/563969055279677440',\n",
       " 'tweet': {'contributors': None,\n",
       "  'truncated': False,\n",
       "  'text': 'That’s how you do it. #sb49 #gopatriots',\n",
       "  'in_reply_to_status_id': None,\n",
       "  'id': 563969055279677440,\n",
       "  'favorite_count': 0,\n",
       "  'source': '<a href=\"http://twitter.com\" rel=\"nofollow\">Twitter Web Client</a>',\n",
       "  'retweeted': False,\n",
       "  'coordinates': None,\n",
       "  'timestamp_ms': '1423295675474',\n",
       "  'entities': {'symbols': [],\n",
       "   'user_mentions': [],\n",
       "   'trends': [],\n",
       "   'hashtags': [{'indices': [22, 27], 'text': 'sb49'},\n",
       "    {'indices': [28, 39], 'text': 'gopatriots'}],\n",
       "   'urls': []},\n",
       "  'in_reply_to_screen_name': None,\n",
       "  'in_reply_to_user_id': None,\n",
       "  'retweet_count': 0,\n",
       "  'id_str': '563969055279677440',\n",
       "  'favorited': False,\n",
       "  'user': {'follow_request_sent': None,\n",
       "   'profile_use_background_image': True,\n",
       "   'geo_enabled': False,\n",
       "   'description': None,\n",
       "   'verified': False,\n",
       "   'profile_image_url_https': 'https://pbs.twimg.com/profile_images/563968606870835200/y7hm9_wa_normal.png',\n",
       "   'profile_sidebar_fill_color': 'DDEEF6',\n",
       "   'is_translator': False,\n",
       "   'id': 2992824809,\n",
       "   'profile_text_color': '333333',\n",
       "   'followers_count': 0,\n",
       "   'profile_sidebar_border_color': 'C0DEED',\n",
       "   'id_str': '2992824809',\n",
       "   'default_profile_image': False,\n",
       "   'location': '',\n",
       "   'utc_offset': None,\n",
       "   'statuses_count': 1,\n",
       "   'profile_background_color': 'C0DEED',\n",
       "   'friends_count': 19,\n",
       "   'profile_link_color': '0084B4',\n",
       "   'profile_image_url': 'http://pbs.twimg.com/profile_images/563968606870835200/y7hm9_wa_normal.png',\n",
       "   'notifications': None,\n",
       "   'profile_background_image_url_https': 'https://abs.twimg.com/images/themes/theme1/bg.png',\n",
       "   'profile_background_image_url': 'http://abs.twimg.com/images/themes/theme1/bg.png',\n",
       "   'name': 'Steven Evans',\n",
       "   'lang': 'en',\n",
       "   'profile_background_tile': False,\n",
       "   'favourites_count': 0,\n",
       "   'screen_name': 'ikazifojuw52',\n",
       "   'url': None,\n",
       "   'created_at': 'Thu Jan 22 19:41:53 +0000 2015',\n",
       "   'contributors_enabled': False,\n",
       "   'time_zone': None,\n",
       "   'protected': False,\n",
       "   'default_profile': True,\n",
       "   'following': None,\n",
       "   'listed_count': 0},\n",
       "  'geo': None,\n",
       "  'in_reply_to_user_id_str': None,\n",
       "  'possibly_sensitive': False,\n",
       "  'lang': 'en',\n",
       "  'created_at': 'Sat Feb 07 07:54:35 +0000 2015',\n",
       "  'filter_level': 'low',\n",
       "  'in_reply_to_status_id_str': None,\n",
       "  'place': None},\n",
       " 'author': {'author_img': 'http://pbs.twimg.com/profile_images/563968606870835200/y7hm9_wa_normal.png',\n",
       "  'name': 'Steven Evans',\n",
       "  'url': 'http://twitter.com/ikazifojuw52',\n",
       "  'nick': 'ikazifojuw52',\n",
       "  'followers': 0.0,\n",
       "  'image_url': 'http://pbs.twimg.com/profile_images/563968606870835200/y7hm9_wa_normal.png',\n",
       "  'type': 'twitter'},\n",
       " 'original_author': {'author_img': 'http://pbs.twimg.com/profile_images/563968606870835200/y7hm9_wa_normal.png',\n",
       "  'name': 'Steven Evans',\n",
       "  'url': 'http://twitter.com/ikazifojuw52',\n",
       "  'nick': 'ikazifojuw52',\n",
       "  'followers': 0.0,\n",
       "  'image_url': 'http://pbs.twimg.com/profile_images/563968606870835200/y7hm9_wa_normal.png',\n",
       "  'type': 'twitter'},\n",
       " 'citation_date': 1423295675,\n",
       " 'metrics': {'acceleration': 0,\n",
       "  'ranking_score': 4.184327,\n",
       "  'citations': {'influential': 0,\n",
       "   'total': 1,\n",
       "   'data': [{'timestamp': 1423292399, 'citations': 0},\n",
       "    {'timestamp': 1423295999, 'citations': 0}],\n",
       "   'matching': 1,\n",
       "   'replies': 0},\n",
       "  'peak': 0,\n",
       "  'impressions': 0,\n",
       "  'momentum': 0},\n",
       " 'highlight': 'That’s how you do it. #sb49 #gopatriots',\n",
       " 'type': 'tweet',\n",
       " 'citation_url': 'http://twitter.com/ikazifojuw52/status/563969055279677440'}"
      ]
     },
     "execution_count": 44,
     "metadata": {},
     "output_type": "execute_result"
    }
   ],
   "source": [
    "tweet"
   ]
  },
  {
   "cell_type": "code",
   "execution_count": null,
   "id": "5f2aaabc",
   "metadata": {
    "id": "5f2aaabc",
    "outputId": "740cea63-27aa-4919-fdcf-4825a3aa6fd2"
   },
   "outputs": [
    {
     "data": {
      "text/plain": [
       "dict_keys(['firstpost_date', 'title', 'url', 'tweet', 'author', 'original_author', 'citation_date', 'metrics', 'highlight', 'type', 'citation_url'])"
      ]
     },
     "execution_count": 9,
     "metadata": {},
     "output_type": "execute_result"
    }
   ],
   "source": [
    "tweet.keys()"
   ]
  },
  {
   "cell_type": "code",
   "execution_count": null,
   "id": "6e93f146",
   "metadata": {
    "id": "6e93f146",
    "outputId": "6c938ae7-35c9-46e7-855e-07da4746f8d4"
   },
   "outputs": [
    {
     "data": {
      "text/plain": [
       "{'author_img': 'http://pbs.twimg.com/profile_images/563968606870835200/y7hm9_wa_normal.png',\n",
       " 'name': 'Steven Evans',\n",
       " 'url': 'http://twitter.com/ikazifojuw52',\n",
       " 'nick': 'ikazifojuw52',\n",
       " 'followers': 0.0,\n",
       " 'image_url': 'http://pbs.twimg.com/profile_images/563968606870835200/y7hm9_wa_normal.png',\n",
       " 'type': 'twitter'}"
      ]
     },
     "execution_count": 10,
     "metadata": {},
     "output_type": "execute_result"
    }
   ],
   "source": [
    "tweet['author']"
   ]
  },
  {
   "cell_type": "code",
   "execution_count": null,
   "id": "ac214f4f",
   "metadata": {
    "id": "ac214f4f",
    "outputId": "3712bc3a-70b1-4ab5-a87a-8b9aea2b04c7"
   },
   "outputs": [
    {
     "data": {
      "text/plain": [
       "{'acceleration': 0,\n",
       " 'ranking_score': 3.7818537,\n",
       " 'citations': {'influential': 0,\n",
       "  'total': 1,\n",
       "  'data': [{'timestamp': 1422636599, 'citations': 0},\n",
       "   {'timestamp': 1422636609, 'citations': 0},\n",
       "   {'timestamp': 1422636619, 'citations': 0},\n",
       "   {'timestamp': 1422636629, 'citations': 0},\n",
       "   {'timestamp': 1422636639, 'citations': 0},\n",
       "   {'timestamp': 1422636649, 'citations': 0},\n",
       "   {'timestamp': 1422636659, 'citations': 0},\n",
       "   {'timestamp': 1422636669, 'citations': 0},\n",
       "   {'timestamp': 1422636679, 'citations': 0},\n",
       "   {'timestamp': 1422636689, 'citations': 0},\n",
       "   {'timestamp': 1422636699, 'citations': 0},\n",
       "   {'timestamp': 1422636709, 'citations': 0}],\n",
       "  'matching': 1,\n",
       "  'replies': 0},\n",
       " 'peak': 0,\n",
       " 'impressions': 103,\n",
       " 'momentum': 0}"
      ]
     },
     "execution_count": 69,
     "metadata": {},
     "output_type": "execute_result"
    }
   ],
   "source": [
    "tweet['metrics']"
   ]
  },
  {
   "cell_type": "code",
   "execution_count": null,
   "id": "e6d3411c",
   "metadata": {
    "id": "e6d3411c",
    "outputId": "777960ea-7d80-481d-bdb5-64565091cf92"
   },
   "outputs": [
    {
     "data": {
      "text/plain": [
       "{'symbols': [],\n",
       " 'user_mentions': [],\n",
       " 'trends': [],\n",
       " 'hashtags': [{'indices': [22, 27], 'text': 'sb49'},\n",
       "  {'indices': [28, 39], 'text': 'gopatriots'}],\n",
       " 'urls': []}"
      ]
     },
     "execution_count": 43,
     "metadata": {},
     "output_type": "execute_result"
    }
   ],
   "source": [
    "tweet['tweet']['entities']"
   ]
  },
  {
   "cell_type": "code",
   "execution_count": null,
   "id": "33e77c24",
   "metadata": {
    "id": "33e77c24",
    "outputId": "214ea8d1-742e-4cd1-82ef-e070b52bf072"
   },
   "outputs": [
    {
     "name": "stdout",
     "output_type": "stream",
     "text": [
      "['NFL', 'GoHawks']\n",
      "Holy Moley! Did you see that game? #NFL #GoHawks\n"
     ]
    },
    {
     "data": {
      "text/plain": [
       "'Holy Moley! Did you see that game?'"
      ]
     },
     "execution_count": 21,
     "metadata": {},
     "output_type": "execute_result"
    }
   ],
   "source": [
    "text = tweet['tweet']['text']\n",
    "hashtags = [hashtag_dict['text'] for hashtag_dict in tweet['tweet']['entities']['hashtags']]\n",
    "print(hashtags)\n",
    "print(text)\n",
    "def clean_text(text, hashtags):    \n",
    "    for hashtag in hashtags:\n",
    "        text = text.replace('#' + hashtag,'')\n",
    "    return text.strip()\n",
    "clean_text(text, hashtags)"
   ]
  },
  {
   "cell_type": "code",
   "execution_count": null,
   "id": "06dbaaa7",
   "metadata": {
    "id": "06dbaaa7",
    "outputId": "d9010ea1-6be3-49c7-e83e-e7093a82717b"
   },
   "outputs": [
    {
     "name": "stdout",
     "output_type": "stream",
     "text": [
      "['NFL', 'GoHawks']\n",
      "Holy Moley! Did you see that game? #NFL #GoHawks\n",
      "Holy Moley! Did you see that game?  \n"
     ]
    }
   ],
   "source": [
    "hashtags = [hashtag_dict['text'] for hashtag_dict in tweet['tweet']['entities']['hashtags']]\n",
    "print(hashtags)\n",
    "text = tweet['tweet']['text']\n",
    "print(text)\n",
    "for hashtag in hashtags:\n",
    "    text = text.replace('#' + hashtag,'')\n",
    "print(text)"
   ]
  },
  {
   "cell_type": "code",
   "execution_count": null,
   "id": "4cee582a",
   "metadata": {
    "id": "4cee582a",
    "outputId": "ea843ae9-4cae-4c29-8979-b0eb57548c89"
   },
   "outputs": [
    {
     "data": {
      "text/plain": [
       "1423295675"
      ]
     },
     "execution_count": 13,
     "metadata": {},
     "output_type": "execute_result"
    }
   ],
   "source": [
    "tweet['citation_date']"
   ]
  },
  {
   "cell_type": "code",
   "execution_count": null,
   "id": "57071a7e",
   "metadata": {
    "id": "57071a7e",
    "outputId": "f9e9ab54-63a2-4ae1-816f-e4062c0b3030"
   },
   "outputs": [
    {
     "data": {
      "text/plain": [
       "'That’s how you do it. #sb49 #gopatriots'"
      ]
     },
     "execution_count": 14,
     "metadata": {},
     "output_type": "execute_result"
    }
   ],
   "source": [
    "tweet['tweet']['text']"
   ]
  },
  {
   "cell_type": "code",
   "execution_count": null,
   "id": "6d1e6c35",
   "metadata": {
    "id": "6d1e6c35",
    "outputId": "c7910b63-c7a1-40c8-9174-97a9dd3247fa"
   },
   "outputs": [
    {
     "ename": "TypeError",
     "evalue": "unsupported operand type(s) for +: 'dict' and 'dict'",
     "output_type": "error",
     "traceback": [
      "\u001b[0;31m---------------------------------------------------------------------------\u001b[0m",
      "\u001b[0;31mTypeError\u001b[0m                                 Traceback (most recent call last)",
      "\u001b[0;32m/var/folders/zz/vkm24chs4xd_mnmr6c68qmz80000gn/T/ipykernel_36591/1057632159.py\u001b[0m in \u001b[0;36m<module>\u001b[0;34m\u001b[0m\n\u001b[0;32m----> 1\u001b[0;31m \u001b[0ma\u001b[0m \u001b[0;34m=\u001b[0m \u001b[0;34m{\u001b[0m\u001b[0mk\u001b[0m\u001b[0;34m:\u001b[0m \u001b[0mrandom\u001b[0m\u001b[0;34m.\u001b[0m\u001b[0mrandom\u001b[0m\u001b[0;34m(\u001b[0m\u001b[0;34m)\u001b[0m \u001b[0;32mfor\u001b[0m \u001b[0mk\u001b[0m \u001b[0;32min\u001b[0m \u001b[0mrange\u001b[0m\u001b[0;34m(\u001b[0m\u001b[0;36m30\u001b[0m\u001b[0;34m)\u001b[0m\u001b[0;34m}\u001b[0m \u001b[0;34m+\u001b[0m \u001b[0;34m{\u001b[0m\u001b[0mk\u001b[0m\u001b[0;34m:\u001b[0m \u001b[0mrandom\u001b[0m\u001b[0;34m.\u001b[0m\u001b[0mrandom\u001b[0m\u001b[0;34m(\u001b[0m\u001b[0;34m)\u001b[0m \u001b[0;32mfor\u001b[0m \u001b[0mk\u001b[0m \u001b[0;32min\u001b[0m \u001b[0mrange\u001b[0m\u001b[0;34m(\u001b[0m\u001b[0;36m30\u001b[0m\u001b[0;34m)\u001b[0m\u001b[0;34m}\u001b[0m\u001b[0;34m\u001b[0m\u001b[0;34m\u001b[0m\u001b[0m\n\u001b[0m",
      "\u001b[0;31mTypeError\u001b[0m: unsupported operand type(s) for +: 'dict' and 'dict'"
     ]
    }
   ],
   "source": [
    "a = {k: random.random() for k in range(30)} + {k: random.random() for k in range(30)}"
   ]
  },
  {
   "cell_type": "code",
   "execution_count": null,
   "id": "9947619d",
   "metadata": {
    "id": "9947619d"
   },
   "outputs": [],
   "source": []
  }
 ],
 "metadata": {
  "accelerator": "GPU",
  "colab": {
   "collapsed_sections": [],
   "machine_shape": "hm",
   "name": "Project 4 -Twitter Data.ipynb",
   "provenance": []
  },
  "kernelspec": {
   "display_name": "Python 3 (ipykernel)",
   "language": "python",
   "name": "python3"
  },
  "language_info": {
   "codemirror_mode": {
    "name": "ipython",
    "version": 3
   },
   "file_extension": ".py",
   "mimetype": "text/x-python",
   "name": "python",
   "nbconvert_exporter": "python",
   "pygments_lexer": "ipython3",
   "version": "3.9.5"
  }
 },
 "nbformat": 4,
 "nbformat_minor": 5
}
